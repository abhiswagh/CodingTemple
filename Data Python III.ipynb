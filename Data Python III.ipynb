{
 "cells": [
  {
   "cell_type": "markdown",
   "metadata": {
    "id": "_dbwZ9_ftkx2"
   },
   "source": [
    "# Data Collections 2 (Dictionaries, Sets) and Importing Modules"
   ]
  },
  {
   "cell_type": "markdown",
   "metadata": {
    "id": "hZhMxkHgtkx-"
   },
   "source": [
    "## Tasks Today:\n",
    "\n",
    "1) Dictionary <br>\n",
    " &nbsp;&nbsp;&nbsp;&nbsp; a) Declaring (key, value) <br>\n",
    " &nbsp;&nbsp;&nbsp;&nbsp; b) Accessing Values <br>\n",
    " &nbsp;&nbsp;&nbsp;&nbsp; ------ Exercise #1 - Print the eye color of each person in a double nested dict <br>\n",
    " &nbsp;&nbsp;&nbsp;&nbsp; c) Adding New Pairs <br>\n",
    " &nbsp;&nbsp;&nbsp;&nbsp; d) Modifying Values <br>\n",
    " &nbsp;&nbsp;&nbsp;&nbsp; e) Removing Key, Value Pairs <br>\n",
    " &nbsp;&nbsp;&nbsp;&nbsp; f) Looping a Dictionary <br>\n",
    " &nbsp;&nbsp;&nbsp;&nbsp; g) Looping Only Keys <br>\n",
    " &nbsp;&nbsp;&nbsp;&nbsp; h) Looping Only Values <br>\n",
    " &nbsp;&nbsp;&nbsp;&nbsp; ------ Exercise #2 - Create a Function that Prints All Key Value Pairs within a print .format()  <br>\n",
    " &nbsp;&nbsp;&nbsp;&nbsp; i) sorted() <br>\n",
    " &nbsp;&nbsp;&nbsp;&nbsp; j) Lists with Dictionaries <br>\n",
    " &nbsp;&nbsp;&nbsp;&nbsp; k) Dictionaries with Lists <br>\n",
    " &nbsp;&nbsp;&nbsp;&nbsp; l) Dictionaries with Dictionaries <br>\n",
    " &nbsp;&nbsp;&nbsp;&nbsp; ------ Exercise #3 - Write a Function that asks someone's name and address, and then stores that into a dictionary, which prints all names and addresses after they're done putting information in...  <br>\n",
    "2) Dictionaries vs. Lists (over time)<br>\n",
    "3) Set <br>\n",
    " &nbsp;&nbsp;&nbsp;&nbsp; a) Declaring <br>\n",
    " &nbsp;&nbsp;&nbsp;&nbsp; b) .add() <br>\n",
    " &nbsp;&nbsp;&nbsp;&nbsp; c) .remove() <br>\n",
    " &nbsp;&nbsp;&nbsp;&nbsp; d) .union() <br>\n",
    " &nbsp;&nbsp;&nbsp;&nbsp; e) .intersection() <br>\n",
    " &nbsp;&nbsp;&nbsp;&nbsp; f) .difference() <br>\n",
    " &nbsp;&nbsp;&nbsp;&nbsp; g) Frozen Set <br>\n",
    "4) Modules <br>\n",
    " &nbsp;&nbsp;&nbsp;&nbsp; a) Importing Entire Modules <br>\n",
    " &nbsp;&nbsp;&nbsp;&nbsp; b) Importing Methods Only <br>\n",
    " &nbsp;&nbsp;&nbsp;&nbsp; c) Using the 'as' Keyword <br>\n",
    " &nbsp;&nbsp;&nbsp;&nbsp; d) Creating a Module <br>\n",
    "5) Exercises <br>\n",
    " &nbsp;&nbsp;&nbsp;&nbsp; a) Build a Shopping Cart <br>\n",
    " &nbsp;&nbsp;&nbsp;&nbsp; b) Create Your Own Module <br>"
   ]
  },
  {
   "cell_type": "markdown",
   "metadata": {
    "id": "WpN9NLR-tkyB"
   },
   "source": [
    "## Dictionary <br>\n",
    "<p>A collection of data with 'key:value' pairs. Dictionaries are ordered as of Python 3.6</p>"
   ]
  },
  {
   "cell_type": "markdown",
   "metadata": {
    "id": "FE6o-BdAtkyC"
   },
   "source": [
    "##### Declaring (key, value)"
   ]
  },
  {
   "cell_type": "code",
   "execution_count": 2,
   "metadata": {
    "id": "QBuYirAgtkyC"
   },
   "outputs": [],
   "source": [
    "# keys should be unique\n",
    "# can use numbers or strings as keys\n",
    "# key-value pairs\n",
    "\n",
    "first_dict = {}\n",
    "\n",
    "#OR\n",
    "\n",
    "second_dict = dict()\n",
    "\n",
    "#Fill it with data\n",
    "third_dict = {\n",
    "    'dave': '255 Main St',\n",
    "    'shawn': '522 First St',\n",
    "    0: 'This is the value for key of 0'\n",
    "}"
   ]
  },
  {
   "cell_type": "markdown",
   "metadata": {
    "id": "Sryp6ya9tkyE"
   },
   "source": [
    "##### Accessing Values"
   ]
  },
  {
   "cell_type": "code",
   "execution_count": 4,
   "metadata": {
    "id": "OE-XnHcutkyF",
    "outputId": "fbfec701-a420-417a-c43d-2dffa5092462"
   },
   "outputs": [
    {
     "name": "stdout",
     "output_type": "stream",
     "text": [
      "255 Main St\n",
      "This is the value for key of 0\n"
     ]
    }
   ],
   "source": [
    "print(third_dict['dave'])\n",
    "print(third_dict[0])"
   ]
  },
  {
   "cell_type": "markdown",
   "metadata": {
    "id": "bKzCusj9tkyH"
   },
   "source": [
    "## In-Class Exercise #1 - Print a formatted statement from the dictionary below <br>\n",
    "<p>The output should be '2018 Chevrolet Silverado'</p>"
   ]
  },
  {
   "cell_type": "code",
   "execution_count": 11,
   "metadata": {
    "id": "_sAQmOOytkyI",
    "outputId": "e91511e3-ac85-4201-de7c-2e65c72c4a35"
   },
   "outputs": [
    {
     "name": "stdout",
     "output_type": "stream",
     "text": [
      "2018 Chevrolet Silverado\n"
     ]
    }
   ],
   "source": [
    "# use the dict below\n",
    "truck = {\n",
    "    'year': 2018,\n",
    "    'make': 'Chevrolet',\n",
    "    'model': 'Silverado'\n",
    "}\n",
    "\n",
    "print(str(truck['year']) + ' '+ truck['make'] + ' ' + truck['model'])\n"
   ]
  },
  {
   "cell_type": "markdown",
   "metadata": {
    "id": "LDXE44vHtkyK"
   },
   "source": [
    "##### Adding New Pairs"
   ]
  },
  {
   "cell_type": "code",
   "execution_count": 15,
   "metadata": {
    "id": "HEfFRiyFtkyL",
    "outputId": "f423f15c-4015-4aad-fa3d-6955f6ede6d6"
   },
   "outputs": [
    {
     "name": "stdout",
     "output_type": "stream",
     "text": [
      "151 Main St\n",
      "{'dave': '255 Main St', 'shawn': '522 First St', 0: 'This is the value for key of 0', 'bob': '151 Main St'}\n"
     ]
    }
   ],
   "source": [
    "third_dict['bob'] = '151 Main St'\n",
    "\n",
    "print(third_dict['bob'])\n",
    "print(third_dict)"
   ]
  },
  {
   "cell_type": "markdown",
   "metadata": {
    "id": "JINLY2qGtkyL"
   },
   "source": [
    "##### Modifying Values"
   ]
  },
  {
   "cell_type": "code",
   "execution_count": 19,
   "metadata": {
    "id": "H2fb1ydVtkyM",
    "outputId": "ac96a79e-aee7-41e9-cd02-90c6b9bbd79b"
   },
   "outputs": [
    {
     "name": "stdout",
     "output_type": "stream",
     "text": [
      "123 Chicago\n",
      "123 Chicago Illinois\n"
     ]
    }
   ],
   "source": [
    "#updates key\n",
    "third_dict['bob'] = '123 Chicago'\n",
    "print(third_dict['bob'])\n",
    "\n",
    "placeholder = third_dict['bob']\n",
    "third_dict['bob'] = placeholder + ' Illinois'\n",
    "\n",
    "print(third_dict['bob'])"
   ]
  },
  {
   "cell_type": "markdown",
   "metadata": {
    "id": "WeiLN5GEtkyM"
   },
   "source": [
    "##### Removing Key, Value Pairs"
   ]
  },
  {
   "cell_type": "code",
   "execution_count": 26,
   "metadata": {
    "id": "JQiDdU-AtkyN",
    "outputId": "35f25764-c6f0-4a9c-8a0d-79c68bdacfa8"
   },
   "outputs": [
    {
     "name": "stdout",
     "output_type": "stream",
     "text": [
      "{'dave': '255 Main St', 'shawn': '522 First St', 0: 'This is the value for key of 0'}\n"
     ]
    }
   ],
   "source": [
    "del third_dict['bob']\n",
    "print(third_dict)"
   ]
  },
  {
   "cell_type": "markdown",
   "metadata": {
    "id": "E_XuuKdptkyN"
   },
   "source": [
    "##### Looping a Dictionary"
   ]
  },
  {
   "cell_type": "code",
   "execution_count": 27,
   "metadata": {
    "id": "pcaJnqF1tkyN",
    "outputId": "45da30ae-bbad-490d-cc00-72d5033cf4ca"
   },
   "outputs": [
    {
     "name": "stdout",
     "output_type": "stream",
     "text": [
      "dave 255 Main St\n",
      "shawn 522 First St\n",
      "0 This is the value for key of 0\n"
     ]
    }
   ],
   "source": [
    "# .items()\n",
    "# a, b, c = 1, 2, 3\n",
    "# print(a)\n",
    "# print(b)\n",
    "# print(c)\n",
    "\n",
    "for key, value in third_dict.items():\n",
    "    print(key, value)\n"
   ]
  },
  {
   "cell_type": "markdown",
   "metadata": {
    "id": "PQ23H2vJtkyO"
   },
   "source": [
    "##### Looping Only Keys"
   ]
  },
  {
   "cell_type": "code",
   "execution_count": 30,
   "metadata": {
    "id": "mwSj3CnZtkyO",
    "outputId": "22b60815-61e7-4246-b94d-dcb6efc7e494"
   },
   "outputs": [
    {
     "name": "stdout",
     "output_type": "stream",
     "text": [
      "dave\n",
      "shawn\n",
      "0\n",
      "dave\n",
      "shawn\n",
      "0\n"
     ]
    }
   ],
   "source": [
    "#.keys\n",
    "\n",
    "for item in third_dict:\n",
    "    print(item)\n",
    "\n",
    "#better way\n",
    "\n",
    "for key in third_dict.keys():\n",
    "    print(key)"
   ]
  },
  {
   "cell_type": "markdown",
   "metadata": {
    "id": "MBZlYQzVtkyO"
   },
   "source": [
    "##### Looping Only Values"
   ]
  },
  {
   "cell_type": "code",
   "execution_count": 32,
   "metadata": {
    "id": "TBjtOjM5tkyP",
    "outputId": "a4989be5-d831-401e-e9d4-e9e180815666"
   },
   "outputs": [
    {
     "name": "stdout",
     "output_type": "stream",
     "text": [
      "255 Main St\n",
      "522 First St\n",
      "This is the value for key of 0\n"
     ]
    }
   ],
   "source": [
    "#.values\n",
    "\n",
    "for value in third_dict.values():\n",
    "    print(value)"
   ]
  },
  {
   "cell_type": "markdown",
   "metadata": {
    "id": "sXNEqY_PtkyP"
   },
   "source": [
    "## In-Class Exercise #2 - Create a Function that Prints All Key Value Pairs within a print .format() <br>\n",
    "<p><b>Output should be:</b><br>\n",
    "Max has blue eyes<br>\n",
    "Lilly has brown eyes<br>\n",
    "Barney has blue eyes<br>\n",
    "etc.\n",
    "</p>"
   ]
  },
  {
   "cell_type": "code",
   "execution_count": 41,
   "metadata": {
    "id": "WycbNHQRtkyP",
    "outputId": "752849d7-5ba4-4fce-850e-ee1fc5f1a2ee"
   },
   "outputs": [
    {
     "name": "stdout",
     "output_type": "stream",
     "text": [
      "Max has blue eyes\n",
      "Lilly has brown eyes\n",
      "Barney has blue eyes\n",
      "Larney has brown eyes\n",
      "Ted has purple eyes\n"
     ]
    }
   ],
   "source": [
    "# use the dict below\n",
    "\n",
    "people = {\n",
    "    'Max': 'blue',\n",
    "    'Lilly': 'brown',\n",
    "    'Barney': 'blue',\n",
    "    'Larney': 'brown',\n",
    "    'Ted': 'purple'\n",
    "}\n",
    "\n",
    "def peoplez():\n",
    "    for key, value in people.items():\n",
    "            sent = (f'{key} has {value} eyes')\n",
    "            print(sent)\n",
    "peoplez()\n",
    "\n",
    "    "
   ]
  },
  {
   "cell_type": "markdown",
   "metadata": {
    "id": "eBfX4HIytkyQ"
   },
   "source": [
    "##### sorted()"
   ]
  },
  {
   "cell_type": "code",
   "execution_count": 42,
   "metadata": {
    "id": "YXw_71-utkyQ",
    "outputId": "7afc3c4f-fb0c-4f76-a48e-cd0ca955cb7f"
   },
   "outputs": [
    {
     "name": "stdout",
     "output_type": "stream",
     "text": [
      "[('Barney', 'blue'), ('Larney', 'brown'), ('Lilly', 'brown'), ('Max', 'blue'), ('Ted', 'purple')]\n",
      "['Barney', 'Larney', 'Lilly', 'Max', 'Ted']\n",
      "['blue', 'blue', 'brown', 'brown', 'purple']\n"
     ]
    }
   ],
   "source": [
    "#sorts variables in order\n",
    "#sorted(dict.values()) or dict.keys or dict.items\n",
    "\n",
    "print(sorted(people.items())) #outputs tuples\n",
    "print(sorted(people.keys()))\n",
    "print(sorted(people.values()))\n",
    "\n"
   ]
  },
  {
   "cell_type": "markdown",
   "metadata": {
    "id": "iydsJ6wttkyR"
   },
   "source": [
    "##### List with Dictionaries"
   ]
  },
  {
   "cell_type": "code",
   "execution_count": 47,
   "metadata": {
    "id": "KSmaQj9AtkyR",
    "outputId": "38d9012a-0812-41e0-9276-c11a2a3e6e72"
   },
   "outputs": [
    {
     "name": "stdout",
     "output_type": "stream",
     "text": [
      "Barbara\n",
      "random guy\n",
      "random girl\n"
     ]
    }
   ],
   "source": [
    "names = ['Dave', 'Randy', 'Blair', {'random guy': 'Robert', 'random girl': 'Barbara'}]\n",
    "print(names[3]['random girl']) #indexing part of list into dictionary and then calling key to output value\n",
    "\n",
    "#Get all keys from nested dictionary in a list:\n",
    "\n",
    "for key in names[3].keys():\n",
    "    print(key)\n"
   ]
  },
  {
   "cell_type": "markdown",
   "metadata": {
    "id": "dLJlNXNRtkyR"
   },
   "source": [
    "##### Dictionaries with Lists"
   ]
  },
  {
   "cell_type": "code",
   "execution_count": 53,
   "metadata": {
    "id": "LAESm7mvtkyS",
    "outputId": "80506949-4e40-4f8b-84e7-2ff3a21edb39"
   },
   "outputs": [
    {
     "name": "stdout",
     "output_type": "stream",
     "text": [
      "smith\n",
      "m\n"
     ]
    }
   ],
   "source": [
    "#be careful when using numbers as keys in dictionaries, don't confuse them with indexes\n",
    "\n",
    "random_data = {\n",
    "    'list 1' : [54, 7, 11],\n",
    "    '2' : ['smith']\n",
    "}\n",
    "\n",
    "for key in random_data['2']:    #NOT AN INDEX, it's a key\n",
    "    print(key)\n",
    "\n",
    "print(random_data['2'][0][1])"
   ]
  },
  {
   "cell_type": "markdown",
   "metadata": {
    "id": "6a4VbpNRtkyS"
   },
   "source": [
    "##### Dictionaries with Dictionaries"
   ]
  },
  {
   "cell_type": "code",
   "execution_count": 55,
   "metadata": {
    "id": "Ox0rBuXDtkyS",
    "outputId": "3d953d92-52f2-4236-c03b-20204b333b4d"
   },
   "outputs": [
    {
     "name": "stdout",
     "output_type": "stream",
     "text": [
      "2.99\n"
     ]
    }
   ],
   "source": [
    "# to get values, must traverse through keys\n",
    "\n",
    "food_dict = {\n",
    "    'ice cream': {\n",
    "        'Chocolate': 2.99,\n",
    "        'Vanilla': 3.99,\n",
    "        'Oreo': 5.99\n",
    "    },\n",
    "    'pizza': {\n",
    "        'pepperoni': 14.99,\n",
    "        'veggie': 15.99\n",
    "    }\n",
    "}\n",
    "\n",
    "print(food_dict['ice cream']['Chocolate'])"
   ]
  },
  {
   "cell_type": "markdown",
   "metadata": {
    "id": "qLcuftHjtkyS"
   },
   "source": [
    "## Dictionaries vs. Lists (over time) Example of RUNTIME\n",
    "### When inputting values in a Dictionary vs List"
   ]
  },
  {
   "cell_type": "code",
   "execution_count": 57,
   "metadata": {
    "id": "xM0KJsyHtkyT"
   },
   "outputs": [],
   "source": [
    "import time\n",
    "\n",
    "\n",
    "# generate fake dictionary\n",
    "d = {}\n",
    "\n",
    "for i in range(10000000):\n",
    "    d[i] = 'value'\n",
    "    \n",
    "\n",
    "# generate fake list\n",
    "big_list = [x for x in range(10000000)]"
   ]
  },
  {
   "cell_type": "code",
   "execution_count": 58,
   "metadata": {
    "id": "A6yUJh-wtkyT",
    "outputId": "d4309011-d68d-4ba2-e13d-bf9213687ad4"
   },
   "outputs": [
    {
     "name": "stdout",
     "output_type": "stream",
     "text": [
      "value\n",
      "Elapsed time for dictionary: 0.0006411075592041016\n",
      "9999999\n",
      "Elapsed time for list: 0.28576207160949707\n"
     ]
    }
   ],
   "source": [
    "# tracking time for dictionary\n",
    "start_time = time.time()\n",
    "\n",
    "print(d[9999999])\n",
    "\n",
    "end_time = time.time() - start_time\n",
    "\n",
    "print('Elapsed time for dictionary: {}'.format(end_time))\n",
    "\n",
    "\n",
    "# tracking time for list\n",
    "start_time = time.time()\n",
    "\n",
    "for i in range(len(big_list)):\n",
    "    if i == 9999999:\n",
    "        print(i)\n",
    "\n",
    "end_time = time.time() - start_time\n",
    "\n",
    "print('Elapsed time for list: {}'.format(end_time))"
   ]
  },
  {
   "cell_type": "markdown",
   "metadata": {
    "id": "CmcdSTb0tkyT"
   },
   "source": [
    "## Exercise #3 - Write a Function that asks someone's name and address, and then stores that into a dictionary, and continues to do so until they choose to 'quit'. Once they quit, the program should print all names and addresses. <br>\n",
    "<p>\n",
    "<b>Proper steps:</b><br>\n",
    "step 1: write a function that takes in information and stores it in a dictionary<br>\n",
    "step 2: define an empty dictionary to work with<br>\n",
    "step 3: create our loop, which asks the user for information until they quit<br>\n",
    "step 4: ask for the information, and store it into variables<br>\n",
    "step 5: check if the user types quit<br>\n",
    "step 5a: print out all information<br>\n",
    "step 5b: break out of the loop<br>\n",
    "step 6: if they didn't quit, add the information to the dictionary<br>\n",
    "step 7: invoke the function by calling it\n",
    "</p>"
   ]
  },
  {
   "cell_type": "code",
   "execution_count": 167,
   "metadata": {
    "id": "vmpJoD07tkyT",
    "outputId": "ae2c6966-4c99-415b-bb19-6dd75315f401"
   },
   "outputs": [
    {
     "name": "stdout",
     "output_type": "stream",
     "text": [
      "We will ask for some information if that's okay? \n",
      "What is your name?Abhi\n",
      "What is your address?Cali\n",
      "Type quit if you want to quit.nah\n",
      "What is your name?Lee\n",
      "What is your address?Florida\n",
      "Type quit if you want to quit.no\n",
      "What is your name?Kamran\n",
      "What is your address?New Hampshire\n",
      "Type quit if you want to quit.quit\n",
      "{'Abhi': 'Cali', 'Lee': 'Florida', 'Kamran': 'New Hampshire'}\n"
     ]
    }
   ],
   "source": [
    "from IPython.display import clear_output\n",
    "\n",
    "\n",
    "def store_info():\n",
    "    info = {}\n",
    "    ask = input(\"We will ask for some information if that's okay?\")\n",
    "    if ask == \"\":\n",
    "        ask = input(\"Please input at least a space.\")\n",
    "    while ask:\n",
    "        name = input(\"What is your name?\")\n",
    "        address = input(\"What is your address?\")\n",
    "        info[name]=address\n",
    "        \n",
    "        choice = input(\"Type quit if you want to quit.\")\n",
    "        \n",
    "        if choice != 'quit':\n",
    "            continue\n",
    "        else:\n",
    "            print(info)\n",
    "            break\n",
    "    \n",
    "\n",
    "store_info()\n",
    "\n"
   ]
  },
  {
   "cell_type": "markdown",
   "metadata": {
    "id": "LFv5HdFLtkyU"
   },
   "source": [
    "## Set <br>\n",
    "<p>A Set is an unordered collection data type that is iterable (loop), mutable, and has no duplicate elements.<br>Major advantage is that it is highly optimized in checking if something is in the set, as opposed to checking if something is in a list.</p>"
   ]
  },
  {
   "cell_type": "markdown",
   "metadata": {
    "id": "320mXOtOtkyU"
   },
   "source": [
    "##### Declaring"
   ]
  },
  {
   "cell_type": "code",
   "execution_count": 73,
   "metadata": {
    "id": "0ubJ6ywttkyU",
    "outputId": "d51d1008-ed86-4638-9b02-de9c31eaefa5"
   },
   "outputs": [
    {
     "name": "stdout",
     "output_type": "stream",
     "text": [
      "{1, 'string', 4, 5, 6, 'alphabet'}\n"
     ]
    }
   ],
   "source": [
    "#set() or {}\n",
    "#no order {3,2,1} outputs as {1,2,3}\n",
    "\n",
    "nums= {4,5,1,6,\"string\",\"alphabet\",4}\n",
    "\n",
    "print(nums)\n",
    "# help(set)"
   ]
  },
  {
   "cell_type": "markdown",
   "metadata": {
    "id": "jpl0oOsVtkyU"
   },
   "source": [
    "##### .add()"
   ]
  },
  {
   "cell_type": "code",
   "execution_count": 74,
   "metadata": {
    "id": "WJVSxULWtkyV",
    "outputId": "2892ca2a-5fcb-43b8-c5fe-4071f7733f51"
   },
   "outputs": [
    {
     "name": "stdout",
     "output_type": "stream",
     "text": [
      "{1, 'string', 4, 5, 6, 56, 'alphabet'}\n"
     ]
    }
   ],
   "source": [
    "#set.add()\n",
    "nums.add(56)\n",
    "\n",
    "print(nums)"
   ]
  },
  {
   "cell_type": "markdown",
   "metadata": {
    "id": "wDZRUd6atkyV"
   },
   "source": [
    "##### .remove()"
   ]
  },
  {
   "cell_type": "code",
   "execution_count": 79,
   "metadata": {
    "id": "b9z8ItLmtkyV",
    "outputId": "a2bb4a7c-78e0-4f54-8dba-227e0f134e49"
   },
   "outputs": [
    {
     "name": "stdout",
     "output_type": "stream",
     "text": [
      "{1, 'string', 4, 5, 6, 'alphabet'}\n"
     ]
    }
   ],
   "source": [
    "#removes by value\n",
    "#set.remove()\n",
    "# nums.remove(56)\n",
    "print(nums)\n"
   ]
  },
  {
   "cell_type": "markdown",
   "metadata": {
    "id": "WCnks_5XtkyV"
   },
   "source": [
    "##### .union() "
   ]
  },
  {
   "cell_type": "code",
   "execution_count": 82,
   "metadata": {
    "id": "_H5wFuMBtkyV",
    "outputId": "4aefa229-8b10-48f7-b575-d7d0899cc17c"
   },
   "outputs": [
    {
     "name": "stdout",
     "output_type": "stream",
     "text": [
      "{1, 2, 3, 4, 5, 6}\n",
      "{1, 2, 3, 4, 5, 6}\n"
     ]
    }
   ],
   "source": [
    "#returns a union of 2 sets, can also use '|' or set.union(set)\n",
    "#joins all numbers, gets rid of duplicates\n",
    "\n",
    "s1= {1,2,3,4}\n",
    "s2= {3,4,5,6}\n",
    "\n",
    "s3= s1.union(s2)\n",
    "print(s3)\n",
    "\n",
    "s4= s1 | s2\n",
    "print(s4)"
   ]
  },
  {
   "cell_type": "markdown",
   "metadata": {
    "id": "mQH9McXMtkyW"
   },
   "source": [
    "##### .intersection()"
   ]
  },
  {
   "cell_type": "code",
   "execution_count": 84,
   "metadata": {
    "id": "IteHNeQztkyW",
    "outputId": "3fca768c-97ee-48ea-8181-8d2fcc9a8739"
   },
   "outputs": [
    {
     "name": "stdout",
     "output_type": "stream",
     "text": [
      "{3, 4}\n",
      "{3, 4}\n"
     ]
    }
   ],
   "source": [
    "#returns an intersection of two sets, can also use '&'\n",
    "#only takes similar elements from both sets\n",
    "\n",
    "s5 = s2 & s1\n",
    "print(s5)\n",
    "\n",
    "s6= s2.intersection(s1)\n",
    "print(s6)"
   ]
  },
  {
   "cell_type": "markdown",
   "metadata": {
    "id": "1syJoVyKtkyW"
   },
   "source": [
    "##### .difference()"
   ]
  },
  {
   "cell_type": "code",
   "execution_count": 87,
   "metadata": {
    "id": "wr2kzCYKtkyW",
    "outputId": "f98b0cae-7d12-47b3-ff52-a09c397a3792"
   },
   "outputs": [
    {
     "name": "stdout",
     "output_type": "stream",
     "text": [
      "{1, 2, 3, 4}\n",
      "{3, 4, 5, 6}\n",
      "{5, 6}\n",
      "{1, 2}\n"
     ]
    }
   ],
   "source": [
    "#returns a set containing all the elements of the invoking set that are NOT in the second set, can also use '-'\n",
    "#only takes values from the first set that are not in the second set\n",
    "#ORDER MATTERS\n",
    "\n",
    "s7= s2 - s1\n",
    "s8 = s1.difference(s2)\n",
    "\n",
    "print(s1)\n",
    "print(s2)\n",
    "print(s7)\n",
    "print(s8)"
   ]
  },
  {
   "cell_type": "markdown",
   "metadata": {
    "id": "26TWgG-RtkyW"
   },
   "source": [
    "##### .clear()"
   ]
  },
  {
   "cell_type": "code",
   "execution_count": 88,
   "metadata": {
    "id": "7B1RcfdqtkyW",
    "outputId": "43fac56a-0a99-4fb6-fae8-da74962680e4"
   },
   "outputs": [
    {
     "name": "stdout",
     "output_type": "stream",
     "text": [
      "set()\n"
     ]
    }
   ],
   "source": [
    "#empties the whole set\n",
    "#set.clear()\n",
    "\n",
    "s8.clear()\n",
    "print(s8)"
   ]
  },
  {
   "cell_type": "markdown",
   "metadata": {
    "id": "HGvSTp0xtkyX"
   },
   "source": [
    "##### Frozenset <br>\n",
    "<p>Frozen sets are immutable objects that only support methods and operators that produce a result without affecting the frozen set or sets to which they are applied.</p><br><b>Unique & Immutable</b>"
   ]
  },
  {
   "cell_type": "code",
   "execution_count": 92,
   "metadata": {
    "id": "BjRR5Y_1tkyX",
    "outputId": "1ee963d2-9794-45bd-94a2-1fa3448832a3"
   },
   "outputs": [
    {
     "name": "stdout",
     "output_type": "stream",
     "text": [
      "frozenset({1, 2, 3, 4, 5, 6})\n"
     ]
    }
   ],
   "source": [
    "#frozenset([])\n",
    "my_frozenset= frozenset(s3)\n",
    "print(my_frozenset)"
   ]
  },
  {
   "cell_type": "markdown",
   "metadata": {
    "id": "2gkFJyzytkyX"
   },
   "source": [
    "## Modules"
   ]
  },
  {
   "cell_type": "markdown",
   "metadata": {
    "id": "7b--YJXntkyX"
   },
   "source": [
    "##### Importing Entire Modules"
   ]
  },
  {
   "cell_type": "code",
   "execution_count": 97,
   "metadata": {
    "id": "j7dC0ozitkyX",
    "outputId": "0eadf679-8fe8-4e0f-e316-b07b9b305033"
   },
   "outputs": [
    {
     "name": "stdout",
     "output_type": "stream",
     "text": [
      "3.141592653589793\n",
      "3\n",
      "3\n"
     ]
    }
   ],
   "source": [
    "#import or from 'xyz' import *\n",
    "import math\n",
    "print(math.pi)\n",
    "print(int(math.pi) // 1)\n",
    "print(math.floor(math.pi))\n",
    "\n",
    "#most modules are already part of python\n"
   ]
  },
  {
   "cell_type": "markdown",
   "metadata": {
    "id": "LUt8aR3etkyX"
   },
   "source": [
    "##### Importing Methods Only"
   ]
  },
  {
   "cell_type": "code",
   "execution_count": 100,
   "metadata": {
    "id": "FzWTJcZjtkyY",
    "outputId": "83455281-72a1-4a31-e13f-0f2166eb41c1"
   },
   "outputs": [
    {
     "name": "stdout",
     "output_type": "stream",
     "text": [
      "3\n"
     ]
    }
   ],
   "source": [
    "#from 'xyz' import 'xyz'\n",
    "from math import floor, pi\n",
    "\n",
    "print(floor(pi))"
   ]
  },
  {
   "cell_type": "markdown",
   "metadata": {
    "id": "Jt5jNmc0tkyY"
   },
   "source": [
    "##### Using the 'as' Keyword"
   ]
  },
  {
   "cell_type": "code",
   "execution_count": 102,
   "metadata": {
    "id": "dshHluZYtkyY",
    "outputId": "004549f8-5da0-41ba-ac37-5923d5a4fae7"
   },
   "outputs": [
    {
     "name": "stdout",
     "output_type": "stream",
     "text": [
      "3\n"
     ]
    }
   ],
   "source": [
    "#from 'xyz' import 'xyz' as 'xyz' or import 'xyz' as 'xyz'\n",
    "from math import floor as f, pi as p\n",
    "\n",
    "print(f(p))"
   ]
  },
  {
   "cell_type": "markdown",
   "metadata": {
    "id": "t8W7RQnCtkyY"
   },
   "source": [
    "##### Creating a Module"
   ]
  },
  {
   "cell_type": "code",
   "execution_count": 107,
   "metadata": {
    "id": "3z5o0SV3tkyY",
    "outputId": "f1c8efa6-a243-4a93-a1fe-8f675ad53a32"
   },
   "outputs": [],
   "source": [
    "# import module\n",
    "# printName('Abhi')"
   ]
  },
  {
   "cell_type": "markdown",
   "metadata": {
    "id": "rnVCYaWNtkyZ"
   },
   "source": [
    "# Exercises"
   ]
  },
  {
   "cell_type": "markdown",
   "metadata": {
    "id": "PMNQ6dI9tkyZ"
   },
   "source": [
    "### 1) Build a Shopping Cart <br>\n",
    "<p><b>You can use either lists or dictionaries. The program should have the following capabilities:</b><br><br>\n",
    "1) Takes in input <br>\n",
    "2) Stores user input into a dictionary or list <br>\n",
    "3) The User can add or delete items <br>\n",
    "4) The User can see current shopping list <br>\n",
    "5) The program Loops until user 'quits' <br>\n",
    "6) Upon quiting the program, print out all items in the user's list <br>\n",
    "</p>"
   ]
  },
  {
   "cell_type": "code",
   "execution_count": 180,
   "metadata": {
    "id": "_WFgS4YKtkyZ"
   },
   "outputs": [
    {
     "name": "stdout",
     "output_type": "stream",
     "text": [
      "Choose 1 of the following: Show/Add/Delete/Clear or Quitshow\n",
      "[]\n",
      "Choose 1 of the following: Show/Add/Delete/Clear or Quitadd\n",
      "What would you like to add?zucchini\n",
      "Choose 1 of the following: Show/Add/Delete/Clear or Quitcinnamon\n",
      "Choose 1 of the following: Show/Add/Delete/Clear or Quitadd\n",
      "What would you like to add?cinnamon\n",
      "Choose 1 of the following: Show/Add/Delete/Clear or Quitadd\n",
      "What would you like to add?taragon\n",
      "Choose 1 of the following: Show/Add/Delete/Clear or Quitadd\n",
      "What would you like to add?apples\n",
      "Choose 1 of the following: Show/Add/Delete/Clear or Quitadd\n",
      "What would you like to add?flowers\n",
      "Choose 1 of the following: Show/Add/Delete/Clear or Quitshow\n",
      "['zucchini', 'cinnamon', 'taragon', 'apples', 'flowers']\n",
      "Choose 1 of the following: Show/Add/Delete/Clear or Quitdelete\n",
      "What would you like to delete?taragon\n",
      "Choose 1 of the following: Show/Add/Delete/Clear or Quitshow\n",
      "['zucchini', 'cinnamon', 'apples', 'flowers']\n",
      "Choose 1 of the following: Show/Add/Delete/Clear or Quitclear\n",
      "Choose 1 of the following: Show/Add/Delete/Clear or Quitshow\n",
      "[]\n",
      "Choose 1 of the following: Show/Add/Delete/Clear or Quitquit\n",
      "[]\n"
     ]
    }
   ],
   "source": [
    "from IPython.display import clear_output\n",
    "\n",
    "# Ask the user 5 bits of input: Do you want to : Show/Add/Delete/clear or Quit?\n",
    "\n",
    "def shop_cart():\n",
    "    cart = []\n",
    "    while True:\n",
    "        choices = input('Choose 1 of the following: Show/Add/Delete/Clear or Quit')\n",
    "        if choices.lower() == 'add':\n",
    "            to_add = input(\"What would you like to add?\")\n",
    "            cart.append(to_add)\n",
    "        if choices.lower() == 'delete':\n",
    "            to_del = input(\"What would you like to delete?\")\n",
    "            cart.remove(to_del)\n",
    "        if choices.lower() == 'show':\n",
    "            print(cart)\n",
    "        if choices.lower() == 'clear':\n",
    "            cart.clear()\n",
    "        if choices.lower() == 'quit':\n",
    "            print(cart)\n",
    "            break\n",
    "\n",
    "shop_cart()\n",
    "\n",
    "\n"
   ]
  },
  {
   "cell_type": "markdown",
   "metadata": {
    "id": "OFmdSk4JtkyZ"
   },
   "source": [
    "### 2) Create a Module in VS Code and Import It into jupyter notebook <br>\n",
    "<p><b>Module should have the following capabilities:</b><br><br>\n",
    "1) Has a function to calculate the square footage of a house <br>\n",
    "    <b>Reminder of Formula: Length X Width == Area<br>\n",
    "        <hr>\n",
    "2) Has a function to calculate the circumference of a circle <br><br>\n",
    "<b>Program in Jupyter Notebook should take in user input and use imported functions to calculate a circle's circumference or a houses square footage</b>\n",
    "</p>"
   ]
  },
  {
   "cell_type": "code",
   "execution_count": 184,
   "metadata": {
    "id": "q9dOkQZStkyZ"
   },
   "outputs": [
    {
     "name": "stdout",
     "output_type": "stream",
     "text": [
      "1800\n",
      "31.415926535\n"
     ]
    }
   ],
   "source": [
    "import math_module\n",
    "\n",
    "#Problem 1\n",
    "math_module.area(60,30)\n",
    "\n",
    "#Problem 2\n",
    "math_module.circle(5) #parameter is radius, not diameter (equation used is 2*pi*r)\n"
   ]
  }
 ],
 "metadata": {
  "colab": {
   "collapsed_sections": [
    "sXNEqY_PtkyP",
    "qLcuftHjtkyS",
    "CmcdSTb0tkyT",
    "LFv5HdFLtkyU",
    "2gkFJyzytkyX",
    "PMNQ6dI9tkyZ",
    "OFmdSk4JtkyZ"
   ],
   "name": "Wednesday_Lesson_Inclass-Updated-Lecture-Updated2021.ipynb",
   "provenance": []
  },
  "kernelspec": {
   "display_name": "Python 3 (ipykernel)",
   "language": "python",
   "name": "python3"
  },
  "language_info": {
   "codemirror_mode": {
    "name": "ipython",
    "version": 3
   },
   "file_extension": ".py",
   "mimetype": "text/x-python",
   "name": "python",
   "nbconvert_exporter": "python",
   "pygments_lexer": "ipython3",
   "version": "3.11.5"
  }
 },
 "nbformat": 4,
 "nbformat_minor": 1
}
