{
  "cells": [
    {
      "cell_type": "markdown",
      "metadata": {
        "id": "view-in-github",
        "colab_type": "text"
      },
      "source": [
        "<a href=\"https://colab.research.google.com/github/abhiswagh/CodingTempleBootcampAssign/blob/main/Parking_Garage_Project_AbhiWagh.ipynb\" target=\"_parent\"><img src=\"https://colab.research.google.com/assets/colab-badge.svg\" alt=\"Open In Colab\"/></a>"
      ]
    },
    {
      "cell_type": "markdown",
      "metadata": {
        "id": "a8m46gyY69BF"
      },
      "source": [
        "# Parking Garage Project\n",
        "\n",
        "Your assignment for today is to create a parking garage class to get more familiar with Object Oriented Programming(OOP).\n",
        "\n",
        "Your parking gargage class should have the following methods:\n",
        "- takeTicket\n",
        "   - This should decrease the amount of tickets available by 1\n",
        "   - This should decrease the amount of parkingSpaces available by 1\n",
        "- payForParking\n",
        "   - Display an input that waits for an amount from the user and store it in a variable\n",
        "   - If the payment variable is not empty then ->  display a message to the user that their ticket has been paid and they have 15mins to leave\n",
        "   - This should update the \"currentTicket\" dictionary key \"paid\" to True\n",
        "-leaveGarage\n",
        "   - If the ticket has been paid, display a message of \"Thank You, have a nice day\"\n",
        "   - If the ticket has not been paid, display an input prompt for payment\n",
        "      - Once paid, display message \"Thank you, have a nice day!\"\n",
        "   - Update parkingSpaces list to increase by 1\n",
        "   - Update tickets list to increase by 1\n",
        "\n",
        "You will need a few attributes as well:\n",
        "- tickets -> list\n",
        "- parkingSpaces -> list\n",
        "- currentTicket -> dictionary"
      ]
    },
    {
      "cell_type": "code",
      "execution_count": 28,
      "metadata": {
        "id": "Xx8ouJ1V69BH",
        "colab": {
          "base_uri": "https://localhost:8080/"
        },
        "outputId": "518bd935-d1fa-4545-acc1-aefe6ea80f26"
      },
      "outputs": [
        {
          "output_type": "stream",
          "name": "stdout",
          "text": [
            "19\n",
            "19\n",
            "Pay here. \n",
            "Pay at garage exit.\n",
            "Please pay now.25\n",
            "Thank you, have a nice day!\n",
            "20\n"
          ]
        }
      ],
      "source": [
        "# Your Code will go here\n",
        "\n",
        "class ParkingGarage():\n",
        "  def __init__(self, tickets = [], parkingSpaces = [], currentTicket = {'paid':False}):\n",
        "    self.tickets = tickets\n",
        "    self.parkingSpaces = parkingSpaces\n",
        "    self.currentTicket = currentTicket\n",
        "\n",
        "  def takeTicket(self):\n",
        "    self.tickets -= 1\n",
        "    self.parkingSpaces -= 1\n",
        "\n",
        "  def payForParking(self):\n",
        "    payment = input('Pay here.')\n",
        "    if payment != ' ':\n",
        "      print('Ticket has been paid. You have 15 minutes to leave.')\n",
        "      self.currentTicket.update({'paid':True})\n",
        "    else:\n",
        "      print('Pay at garage exit.')\n",
        "\n",
        "  def leaveGarage(self):\n",
        "    if self.currentTicket['paid'] == True:\n",
        "      print(\"Thank you, have a nice day!\")\n",
        "      self.tickets += 1\n",
        "      self.parkingSpaces += 1\n",
        "    else:\n",
        "      pay_now = int(input('Please pay now.'))\n",
        "      if pay_now != ' ':\n",
        "        print('Thank you, have a nice day!')\n",
        "        self.currentTicket.update({'paid':True})\n",
        "        self.tickets += 1\n",
        "        self.parkingSpaces += 1\n",
        "\n",
        "#Testing OOP\n",
        "\n",
        "example_parking = ParkingGarage(20, 20)\n",
        "\n",
        "example_parking.takeTicket()\n",
        "print(example_parking.tickets)\n",
        "print(example_parking.parkingSpaces)\n",
        "\n",
        "example_parking.payForParking()\n",
        "\n",
        "example_parking.leaveGarage()\n",
        "print(example_parking.tickets)\n",
        "\n",
        "\n"
      ]
    }
  ],
  "metadata": {
    "kernelspec": {
      "display_name": "Python 3",
      "language": "python",
      "name": "python3"
    },
    "language_info": {
      "codemirror_mode": {
        "name": "ipython",
        "version": 3
      },
      "file_extension": ".py",
      "mimetype": "text/x-python",
      "name": "python",
      "nbconvert_exporter": "python",
      "pygments_lexer": "ipython3",
      "version": "3.7.3"
    },
    "colab": {
      "provenance": [],
      "include_colab_link": true
    }
  },
  "nbformat": 4,
  "nbformat_minor": 0
}