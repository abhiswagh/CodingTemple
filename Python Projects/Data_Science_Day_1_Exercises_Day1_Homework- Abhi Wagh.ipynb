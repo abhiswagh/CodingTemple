{
 "cells": [
  {
   "cell_type": "markdown",
   "metadata": {
    "id": "KdERlTpFuL5V"
   },
   "source": [
    "# Exercises"
   ]
  },
  {
   "cell_type": "markdown",
   "metadata": {
    "id": "to-gsrQyuL5Z"
   },
   "source": [
    "### #1 - Calculate the BMI (body mass index) on the two lists below using NDArrays..."
   ]
  },
  {
   "cell_type": "code",
   "execution_count": 6,
   "metadata": {
    "id": "iZlf9DzeuL5a"
   },
   "outputs": [
    {
     "name": "stdout",
     "output_type": "stream",
     "text": [
      "[16.86620458 17.87755102 18.82562984 19.71450617 20.54794521 21.32943755\n",
      " 22.06222222]\n"
     ]
    }
   ],
   "source": [
    "import numpy as np\n",
    "# formula = weight / (height**2) * 730\n",
    "height = [69, 70, 71, 72, 73, 74, 75]\n",
    "weight = [110, 120, 130, 140, 150, 160, 170]\n",
    "\n",
    "height_array = np.array(height)\n",
    "weight_array = np.array(weight)\n",
    "\n",
    "BMI = weight_array/(height_array**2) * 730\n",
    "print(BMI)"
   ]
  },
  {
   "cell_type": "markdown",
   "metadata": {
    "id": "RSsT8w8ouL5b"
   },
   "source": [
    "### #2 - Create a function that will take in two parameters and will create a random matrix based off of those parameters. Extra: Have additional parameters taken in that allow the user to choose the shape and data type of the matrix."
   ]
  },
  {
   "cell_type": "code",
   "execution_count": 49,
   "metadata": {
    "id": "ygFvj0aeuL5b"
   },
   "outputs": [
    {
     "name": "stdout",
     "output_type": "stream",
     "text": [
      "[[ 4 12 25]\n",
      " [24 32  2]\n",
      " [35 14 33]]\n"
     ]
    }
   ],
   "source": [
    "def randomizer(p_1, p_2, x1, x2, data_type):\n",
    "    \n",
    "    matrix = np.random.uniform(p_1, p_2,(x1, x2)) \n",
    "    new_type = matrix.astype(data_type)\n",
    "    print(new_type)\n",
    "    \n",
    "\n",
    "randomizer(1, 37, 3, 3, np.int64)\n"
   ]
  },
  {
   "cell_type": "markdown",
   "metadata": {
    "id": "e5mP1UX9uL5c"
   },
   "source": [
    "### #3 - Extra: Open and load the data in the two text files that have the Boston Red Sox hitting data for the past seasons. Compare the difference in the two years by putting the data into an NDArray and running a differencial operation on it. The column to look for will be SLG.\n",
    "\n",
    "Your output should display which year (either 2017 or 2018) was a better year based on SLG"
   ]
  },
  {
   "cell_type": "code",
   "execution_count": 50,
   "metadata": {
    "id": "iAExC-SjuL5c"
   },
   "outputs": [],
   "source": [
    "import csv\n",
    "import numpy as np\n",
    "\n"
   ]
  },
  {
   "cell_type": "code",
   "execution_count": 79,
   "metadata": {
    "id": "P8Rwr8lmuL5e"
   },
   "outputs": [
    {
     "name": "stdout",
     "output_type": "stream",
     "text": [
      "-0.125\n",
      "-0.00999999\n",
      "-0.0039999783\n",
      "0.11900002\n",
      "-0.048999995\n",
      "0.04100001\n",
      "0.0009999871\n",
      "0.181\n",
      "0.20000002\n",
      "0.05700001\n",
      "-0.104\n",
      "-0.004999995\n",
      "-0.14399996\n",
      "0.26400003\n",
      "0.048999995\n",
      "0.06099999\n",
      "0.04699999\n",
      "-0.07799998\n",
      "-0.23700002\n",
      "-0.139\n"
     ]
    }
   ],
   "source": [
    "FIELDS = ['Rk', 'Pos', 'Name', 'Age', 'G', 'PA', 'AB', 'R', 'H', '2B', '3B', 'HR', 'RBI', 'SB', 'CS', \n",
    "          'BB', 'SO', 'BA', 'OBP', 'SLG', 'OPS', 'OPS+', 'TB', 'GDP', 'HBP', 'SH', 'SF', 'IBB']\n",
    "\n",
    "DATATYPES = [('rk', 'i'), ('pos', '|S25'), ('name', '|S25'), ('age', 'i'), ('g', 'i'), ('pa', 'i'), ('ab', 'i'),\n",
    "                ('r', 'i'), ('h', 'i'), ('2b', 'i'), ('3b', 'i'), ('hr', 'i'), ('rbi', 'i'), ('sb', 'i'), ('cs', 'i'),\n",
    "                ('bb', 'i'), ('so', 'i'), ('ba', 'f'), ('obp', 'f'), ('slg', 'f'), ('ops', 'f'), ('opsp', 'i'),\n",
    "                ('tb', 'i'), ('gdp', 'i'), ('hbp', 'i'), ('sh', 'i'), ('sf', 'i'), ('ibb', 'i')]\n",
    "\n",
    "#Use this function to actually open the data inside of a NDArray\n",
    "\n",
    "def load_data(filename, d = ','):\n",
    "    data = np.genfromtxt(filename,delimiter = d, skip_header = 1,\n",
    "                        usecols = np.arange(0,24),invalid_raise=False,\n",
    "                        names = FIELDS, dtype = DATATYPES)\n",
    "    return data\n",
    "\n",
    "bs2017 = load_data('files/redsox_2017_hitting.txt')\n",
    "bs2018 = load_data('files/redsox_2018_hitting.txt')\n",
    "\n",
    "bs2017_SLG = bs2017['SLG']\n",
    "bs2018_SLG = bs2018['SLG']\n",
    "\n",
    "\n",
    "for i in range(len((bs2018_SLG))):\n",
    "    diff_SLG = bs2018_SLG[i] - bs2017_SLG[i]\n",
    "    print(diff_SLG)\n",
    "\n",
    "\n"
   ]
  }
 ],
 "metadata": {
  "colab": {
   "name": "Copy of Data_Science_Day_1_Exercises-Day1- Homework.ipynb",
   "provenance": []
  },
  "kernelspec": {
   "display_name": "Python 3 (ipykernel)",
   "language": "python",
   "name": "python3"
  },
  "language_info": {
   "codemirror_mode": {
    "name": "ipython",
    "version": 3
   },
   "file_extension": ".py",
   "mimetype": "text/x-python",
   "name": "python",
   "nbconvert_exporter": "python",
   "pygments_lexer": "ipython3",
   "version": "3.11.5"
  }
 },
 "nbformat": 4,
 "nbformat_minor": 1
}
