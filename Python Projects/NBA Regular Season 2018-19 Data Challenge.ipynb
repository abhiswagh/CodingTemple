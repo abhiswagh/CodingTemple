{
 "cells": [
  {
   "cell_type": "markdown",
   "metadata": {},
   "source": [
    "# Nba Regular Season 2018-19 Data Challenge\n",
    "\n",
    "Your task will be to take the dataset given, and create an analysis answering the following 10 questions. This project will again test your knowledge of pandas in order to find the answers needed given the data you are presented with."
   ]
  },
  {
   "cell_type": "markdown",
   "metadata": {},
   "source": [
    "# What was the average age of player in the league?"
   ]
  },
  {
   "cell_type": "code",
   "execution_count": 200,
   "metadata": {},
   "outputs": [
    {
     "name": "stdout",
     "output_type": "stream",
     "text": [
      "Average age of player in league: 26.0\n"
     ]
    }
   ],
   "source": [
    "import pandas as pd\n",
    "\n",
    "nba_stats = pd.read_csv('files/nbastats2018-2019.csv')\n",
    "\n",
    "av_age = nba_stats['Age'].mean().round(decimals = 0)\n",
    "print(f'Average age of player in league: {av_age}')"
   ]
  },
  {
   "cell_type": "markdown",
   "metadata": {},
   "source": [
    "# What player scored the most points?"
   ]
  },
  {
   "cell_type": "code",
   "execution_count": 202,
   "metadata": {},
   "outputs": [
    {
     "data": {
      "text/plain": [
       "Name      Zhou Qi\n",
       "Points       36.1\n",
       "dtype: object"
      ]
     },
     "execution_count": 202,
     "metadata": {},
     "output_type": "execute_result"
    }
   ],
   "source": [
    "max_pts = nba_stats[['Name', 'Points']].max()\n",
    "max_pts\n",
    "\n",
    "#Answer: Zhou Qi"
   ]
  },
  {
   "cell_type": "markdown",
   "metadata": {},
   "source": [
    "# What player had the most blocks during the season? Was it a post player (F/C)?"
   ]
  },
  {
   "cell_type": "code",
   "execution_count": 218,
   "metadata": {},
   "outputs": [
    {
     "data": {
      "text/plain": [
       "Name      Zhou Qi\n",
       "Blocks        2.7\n",
       "dtype: object"
      ]
     },
     "execution_count": 218,
     "metadata": {},
     "output_type": "execute_result"
    }
   ],
   "source": [
    "blocks = nba_stats[['Name', 'Blocks']].max()\n",
    "blocks\n",
    "\n",
    "#Answer: Zhou Qi\n",
    "#According to ESPN, Qi is a center(C) for the Houston Rockets"
   ]
  },
  {
   "cell_type": "markdown",
   "metadata": {},
   "source": [
    "# Based on the regular season, who had the best chance to win a title given their win percentage?"
   ]
  },
  {
   "cell_type": "code",
   "execution_count": 217,
   "metadata": {},
   "outputs": [
    {
     "data": {
      "text/html": [
       "<div>\n",
       "<style scoped>\n",
       "    .dataframe tbody tr th:only-of-type {\n",
       "        vertical-align: middle;\n",
       "    }\n",
       "\n",
       "    .dataframe tbody tr th {\n",
       "        vertical-align: top;\n",
       "    }\n",
       "\n",
       "    .dataframe thead th {\n",
       "        text-align: right;\n",
       "    }\n",
       "</style>\n",
       "<table border=\"1\" class=\"dataframe\">\n",
       "  <thead>\n",
       "    <tr style=\"text-align: right;\">\n",
       "      <th></th>\n",
       "      <th>Team</th>\n",
       "      <th>WS</th>\n",
       "      <th>G</th>\n",
       "      <th>Estimated Team Wins</th>\n",
       "      <th>Approximate Win Percentage (%)</th>\n",
       "    </tr>\n",
       "  </thead>\n",
       "  <tbody>\n",
       "    <tr>\n",
       "      <th>16</th>\n",
       "      <td>Milwaukee Bucks</td>\n",
       "      <td>63.0</td>\n",
       "      <td>58.64</td>\n",
       "      <td>21.00</td>\n",
       "      <td>35.81</td>\n",
       "    </tr>\n",
       "    <tr>\n",
       "      <th>10</th>\n",
       "      <td>Houston Rockets</td>\n",
       "      <td>45.7</td>\n",
       "      <td>45.31</td>\n",
       "      <td>15.23</td>\n",
       "      <td>33.61</td>\n",
       "    </tr>\n",
       "    <tr>\n",
       "      <th>22</th>\n",
       "      <td>Philadelphia 76ers</td>\n",
       "      <td>52.8</td>\n",
       "      <td>52.82</td>\n",
       "      <td>17.60</td>\n",
       "      <td>33.32</td>\n",
       "    </tr>\n",
       "    <tr>\n",
       "      <th>9</th>\n",
       "      <td>Golden State Warriors</td>\n",
       "      <td>55.9</td>\n",
       "      <td>59.00</td>\n",
       "      <td>18.63</td>\n",
       "      <td>31.58</td>\n",
       "    </tr>\n",
       "    <tr>\n",
       "      <th>27</th>\n",
       "      <td>Toronto Raptors</td>\n",
       "      <td>52.9</td>\n",
       "      <td>57.75</td>\n",
       "      <td>17.63</td>\n",
       "      <td>30.53</td>\n",
       "    </tr>\n",
       "    <tr>\n",
       "      <th>2</th>\n",
       "      <td>Brooklyn Nets</td>\n",
       "      <td>45.4</td>\n",
       "      <td>50.17</td>\n",
       "      <td>15.13</td>\n",
       "      <td>30.16</td>\n",
       "    </tr>\n",
       "    <tr>\n",
       "      <th>7</th>\n",
       "      <td>Denver Nuggets</td>\n",
       "      <td>50.5</td>\n",
       "      <td>55.80</td>\n",
       "      <td>16.83</td>\n",
       "      <td>30.16</td>\n",
       "    </tr>\n",
       "    <tr>\n",
       "      <th>28</th>\n",
       "      <td>Utah Jazz</td>\n",
       "      <td>53.6</td>\n",
       "      <td>59.73</td>\n",
       "      <td>17.87</td>\n",
       "      <td>29.92</td>\n",
       "    </tr>\n",
       "    <tr>\n",
       "      <th>1</th>\n",
       "      <td>Boston Celtics</td>\n",
       "      <td>52.0</td>\n",
       "      <td>58.80</td>\n",
       "      <td>17.33</td>\n",
       "      <td>29.47</td>\n",
       "    </tr>\n",
       "    <tr>\n",
       "      <th>11</th>\n",
       "      <td>Indiana Pacers</td>\n",
       "      <td>47.7</td>\n",
       "      <td>54.53</td>\n",
       "      <td>15.90</td>\n",
       "      <td>29.16</td>\n",
       "    </tr>\n",
       "    <tr>\n",
       "      <th>12</th>\n",
       "      <td>Los Angeles Clippers</td>\n",
       "      <td>46.5</td>\n",
       "      <td>54.68</td>\n",
       "      <td>15.50</td>\n",
       "      <td>28.35</td>\n",
       "    </tr>\n",
       "    <tr>\n",
       "      <th>24</th>\n",
       "      <td>Portland Trail Blazers</td>\n",
       "      <td>50.9</td>\n",
       "      <td>60.57</td>\n",
       "      <td>16.97</td>\n",
       "      <td>28.02</td>\n",
       "    </tr>\n",
       "    <tr>\n",
       "      <th>26</th>\n",
       "      <td>San Antonio Spurs</td>\n",
       "      <td>45.9</td>\n",
       "      <td>59.07</td>\n",
       "      <td>15.30</td>\n",
       "      <td>25.90</td>\n",
       "    </tr>\n",
       "    <tr>\n",
       "      <th>20</th>\n",
       "      <td>Oklahoma City Thunder</td>\n",
       "      <td>49.2</td>\n",
       "      <td>64.92</td>\n",
       "      <td>16.40</td>\n",
       "      <td>25.26</td>\n",
       "    </tr>\n",
       "    <tr>\n",
       "      <th>21</th>\n",
       "      <td>Orlando Magic</td>\n",
       "      <td>43.6</td>\n",
       "      <td>57.87</td>\n",
       "      <td>14.53</td>\n",
       "      <td>25.11</td>\n",
       "    </tr>\n",
       "    <tr>\n",
       "      <th>18</th>\n",
       "      <td>New Orleans Pelicans</td>\n",
       "      <td>37.5</td>\n",
       "      <td>51.67</td>\n",
       "      <td>12.50</td>\n",
       "      <td>24.19</td>\n",
       "    </tr>\n",
       "    <tr>\n",
       "      <th>13</th>\n",
       "      <td>Los Angeles Lakers</td>\n",
       "      <td>34.8</td>\n",
       "      <td>49.00</td>\n",
       "      <td>11.60</td>\n",
       "      <td>23.67</td>\n",
       "    </tr>\n",
       "    <tr>\n",
       "      <th>29</th>\n",
       "      <td>Washington Wizards</td>\n",
       "      <td>32.3</td>\n",
       "      <td>46.29</td>\n",
       "      <td>10.77</td>\n",
       "      <td>23.27</td>\n",
       "    </tr>\n",
       "    <tr>\n",
       "      <th>17</th>\n",
       "      <td>Minnesota Timberwolves</td>\n",
       "      <td>36.4</td>\n",
       "      <td>52.50</td>\n",
       "      <td>12.13</td>\n",
       "      <td>23.10</td>\n",
       "    </tr>\n",
       "    <tr>\n",
       "      <th>14</th>\n",
       "      <td>Memphis Grizzlies</td>\n",
       "      <td>30.9</td>\n",
       "      <td>44.76</td>\n",
       "      <td>10.30</td>\n",
       "      <td>23.01</td>\n",
       "    </tr>\n",
       "    <tr>\n",
       "      <th>25</th>\n",
       "      <td>Sacramento Kings</td>\n",
       "      <td>38.4</td>\n",
       "      <td>56.80</td>\n",
       "      <td>12.80</td>\n",
       "      <td>22.54</td>\n",
       "    </tr>\n",
       "    <tr>\n",
       "      <th>8</th>\n",
       "      <td>Detroit Pistons</td>\n",
       "      <td>38.9</td>\n",
       "      <td>57.67</td>\n",
       "      <td>12.97</td>\n",
       "      <td>22.49</td>\n",
       "    </tr>\n",
       "    <tr>\n",
       "      <th>3</th>\n",
       "      <td>Charlotte Hornets</td>\n",
       "      <td>38.8</td>\n",
       "      <td>62.93</td>\n",
       "      <td>12.93</td>\n",
       "      <td>20.55</td>\n",
       "    </tr>\n",
       "    <tr>\n",
       "      <th>0</th>\n",
       "      <td>Atlanta Hawks</td>\n",
       "      <td>28.0</td>\n",
       "      <td>46.19</td>\n",
       "      <td>9.33</td>\n",
       "      <td>20.20</td>\n",
       "    </tr>\n",
       "    <tr>\n",
       "      <th>15</th>\n",
       "      <td>Miami Heat</td>\n",
       "      <td>35.7</td>\n",
       "      <td>59.00</td>\n",
       "      <td>11.90</td>\n",
       "      <td>20.17</td>\n",
       "    </tr>\n",
       "    <tr>\n",
       "      <th>23</th>\n",
       "      <td>Phoenix Suns</td>\n",
       "      <td>28.9</td>\n",
       "      <td>48.86</td>\n",
       "      <td>9.63</td>\n",
       "      <td>19.71</td>\n",
       "    </tr>\n",
       "    <tr>\n",
       "      <th>6</th>\n",
       "      <td>Dallas Mavericks</td>\n",
       "      <td>33.7</td>\n",
       "      <td>57.40</td>\n",
       "      <td>11.23</td>\n",
       "      <td>19.56</td>\n",
       "    </tr>\n",
       "    <tr>\n",
       "      <th>19</th>\n",
       "      <td>New York Knicks</td>\n",
       "      <td>29.1</td>\n",
       "      <td>57.06</td>\n",
       "      <td>9.70</td>\n",
       "      <td>17.00</td>\n",
       "    </tr>\n",
       "    <tr>\n",
       "      <th>4</th>\n",
       "      <td>Chicago Bulls</td>\n",
       "      <td>20.9</td>\n",
       "      <td>50.19</td>\n",
       "      <td>6.97</td>\n",
       "      <td>13.89</td>\n",
       "    </tr>\n",
       "    <tr>\n",
       "      <th>5</th>\n",
       "      <td>Cleveland Cavaliers</td>\n",
       "      <td>16.2</td>\n",
       "      <td>43.88</td>\n",
       "      <td>5.40</td>\n",
       "      <td>12.31</td>\n",
       "    </tr>\n",
       "  </tbody>\n",
       "</table>\n",
       "</div>"
      ],
      "text/plain": [
       "                      Team    WS      G  Estimated Team Wins  \\\n",
       "16         Milwaukee Bucks  63.0  58.64                21.00   \n",
       "10         Houston Rockets  45.7  45.31                15.23   \n",
       "22      Philadelphia 76ers  52.8  52.82                17.60   \n",
       "9    Golden State Warriors  55.9  59.00                18.63   \n",
       "27         Toronto Raptors  52.9  57.75                17.63   \n",
       "2            Brooklyn Nets  45.4  50.17                15.13   \n",
       "7           Denver Nuggets  50.5  55.80                16.83   \n",
       "28               Utah Jazz  53.6  59.73                17.87   \n",
       "1           Boston Celtics  52.0  58.80                17.33   \n",
       "11          Indiana Pacers  47.7  54.53                15.90   \n",
       "12    Los Angeles Clippers  46.5  54.68                15.50   \n",
       "24  Portland Trail Blazers  50.9  60.57                16.97   \n",
       "26       San Antonio Spurs  45.9  59.07                15.30   \n",
       "20   Oklahoma City Thunder  49.2  64.92                16.40   \n",
       "21           Orlando Magic  43.6  57.87                14.53   \n",
       "18    New Orleans Pelicans  37.5  51.67                12.50   \n",
       "13      Los Angeles Lakers  34.8  49.00                11.60   \n",
       "29      Washington Wizards  32.3  46.29                10.77   \n",
       "17  Minnesota Timberwolves  36.4  52.50                12.13   \n",
       "14       Memphis Grizzlies  30.9  44.76                10.30   \n",
       "25        Sacramento Kings  38.4  56.80                12.80   \n",
       "8          Detroit Pistons  38.9  57.67                12.97   \n",
       "3        Charlotte Hornets  38.8  62.93                12.93   \n",
       "0            Atlanta Hawks  28.0  46.19                 9.33   \n",
       "15              Miami Heat  35.7  59.00                11.90   \n",
       "23            Phoenix Suns  28.9  48.86                 9.63   \n",
       "6         Dallas Mavericks  33.7  57.40                11.23   \n",
       "19         New York Knicks  29.1  57.06                 9.70   \n",
       "4            Chicago Bulls  20.9  50.19                 6.97   \n",
       "5      Cleveland Cavaliers  16.2  43.88                 5.40   \n",
       "\n",
       "    Approximate Win Percentage (%)  \n",
       "16                           35.81  \n",
       "10                           33.61  \n",
       "22                           33.32  \n",
       "9                            31.58  \n",
       "27                           30.53  \n",
       "2                            30.16  \n",
       "7                            30.16  \n",
       "28                           29.92  \n",
       "1                            29.47  \n",
       "11                           29.16  \n",
       "12                           28.35  \n",
       "24                           28.02  \n",
       "26                           25.90  \n",
       "20                           25.26  \n",
       "21                           25.11  \n",
       "18                           24.19  \n",
       "13                           23.67  \n",
       "29                           23.27  \n",
       "17                           23.10  \n",
       "14                           23.01  \n",
       "25                           22.54  \n",
       "8                            22.49  \n",
       "3                            20.55  \n",
       "0                            20.20  \n",
       "15                           20.17  \n",
       "23                           19.71  \n",
       "6                            19.56  \n",
       "19                           17.00  \n",
       "4                            13.89  \n",
       "5                            12.31  "
      ]
     },
     "execution_count": 217,
     "metadata": {},
     "output_type": "execute_result"
    }
   ],
   "source": [
    "df_nba = nba_stats[['Team', 'WS']]\n",
    "df_nba_subset = df_nba.groupby('Team', as_index = False).sum().round(decimals = 2)\n",
    "\n",
    "df_games_played = nba_stats[['Team', 'G']]\n",
    "df_games_subset = df_games_played.groupby('Team', as_index = False).mean().round(decimals = 2)\n",
    "\n",
    "merged = df_nba_subset.merge(df_games_subset, on = 'Team', how = 'inner')\n",
    "\n",
    "#based on research, \"A win share is worth one-third of a team win.\" - Justin Kubatko\n",
    "#win percentage = team wins/total number of games played (couldn't find total number of games played per team in dataset\n",
    "#so took average number of games played by each player per team)\n",
    "\n",
    "merged['Estimated Team Wins'] = (merged['WS'] * 1/3).round(decimals = 2)\n",
    "merged['Approximate Win Percentage (%)'] = (((merged['Estimated Team Wins'])/(merged['G'])) * 100).round(decimals = 2)\n",
    "merged.sort_values('Approximate Win Percentage (%)', ascending = False)\n",
    "\n",
    "#Answer: Milwaukee Bucks?\n"
   ]
  },
  {
   "cell_type": "markdown",
   "metadata": {},
   "source": [
    "# What player had the best 3-pt percentage? "
   ]
  },
  {
   "cell_type": "code",
   "execution_count": 189,
   "metadata": {},
   "outputs": [
    {
     "data": {
      "text/plain": [
       "Name    Zhou Qi\n",
       "FG3%        1.0\n",
       "dtype: object"
      ]
     },
     "execution_count": 189,
     "metadata": {},
     "output_type": "execute_result"
    }
   ],
   "source": [
    "nba_stats.keys()\n",
    "three_pt = nba_stats[['Name', 'FG3%']].max()\n",
    "three_pt\n",
    "\n",
    "#Answer: Zhou Qi"
   ]
  },
  {
   "cell_type": "markdown",
   "metadata": {},
   "source": [
    "# Who played the most minutes during the season"
   ]
  },
  {
   "cell_type": "code",
   "execution_count": 133,
   "metadata": {},
   "outputs": [
    {
     "data": {
      "text/plain": [
       "Name    Zhou Qi\n",
       "MP         36.9\n",
       "dtype: object"
      ]
     },
     "execution_count": 133,
     "metadata": {},
     "output_type": "execute_result"
    }
   ],
   "source": [
    "max_mins = nba_stats[['Name', 'MP']].max()\n",
    "max_mins\n",
    "\n",
    "#Answer: Zhou Qi"
   ]
  },
  {
   "cell_type": "markdown",
   "metadata": {},
   "source": [
    "# What player given their player efficiency rating was the clutchest during the season?"
   ]
  },
  {
   "cell_type": "code",
   "execution_count": 150,
   "metadata": {},
   "outputs": [
    {
     "data": {
      "text/plain": [
       "Name    Zhou Qi\n",
       "PER        80.4\n",
       "dtype: object"
      ]
     },
     "execution_count": 150,
     "metadata": {},
     "output_type": "execute_result"
    }
   ],
   "source": [
    "PER_stats = nba_stats[['Name', 'PER']]\n",
    "PER_stats.max()\n",
    "\n",
    "#Answer: Zhou Qi (hella clutch)"
   ]
  },
  {
   "cell_type": "markdown",
   "metadata": {},
   "source": [
    "# What team had the youngest roster?"
   ]
  },
  {
   "cell_type": "code",
   "execution_count": 209,
   "metadata": {},
   "outputs": [
    {
     "data": {
      "text/html": [
       "<div>\n",
       "<style scoped>\n",
       "    .dataframe tbody tr th:only-of-type {\n",
       "        vertical-align: middle;\n",
       "    }\n",
       "\n",
       "    .dataframe tbody tr th {\n",
       "        vertical-align: top;\n",
       "    }\n",
       "\n",
       "    .dataframe thead th {\n",
       "        text-align: right;\n",
       "    }\n",
       "</style>\n",
       "<table border=\"1\" class=\"dataframe\">\n",
       "  <thead>\n",
       "    <tr style=\"text-align: right;\">\n",
       "      <th></th>\n",
       "      <th>Age</th>\n",
       "    </tr>\n",
       "    <tr>\n",
       "      <th>Team</th>\n",
       "      <th></th>\n",
       "    </tr>\n",
       "  </thead>\n",
       "  <tbody>\n",
       "    <tr>\n",
       "      <th>Chicago Bulls</th>\n",
       "      <td>24.31</td>\n",
       "    </tr>\n",
       "    <tr>\n",
       "      <th>Sacramento Kings</th>\n",
       "      <td>24.40</td>\n",
       "    </tr>\n",
       "    <tr>\n",
       "      <th>Orlando Magic</th>\n",
       "      <td>24.53</td>\n",
       "    </tr>\n",
       "    <tr>\n",
       "      <th>New York Knicks</th>\n",
       "      <td>24.62</td>\n",
       "    </tr>\n",
       "    <tr>\n",
       "      <th>Phoenix Suns</th>\n",
       "      <td>24.76</td>\n",
       "    </tr>\n",
       "    <tr>\n",
       "      <th>Portland Trail Blazers</th>\n",
       "      <td>24.86</td>\n",
       "    </tr>\n",
       "    <tr>\n",
       "      <th>Indiana Pacers</th>\n",
       "      <td>25.06</td>\n",
       "    </tr>\n",
       "    <tr>\n",
       "      <th>Denver Nuggets</th>\n",
       "      <td>25.27</td>\n",
       "    </tr>\n",
       "    <tr>\n",
       "      <th>Brooklyn Nets</th>\n",
       "      <td>25.56</td>\n",
       "    </tr>\n",
       "    <tr>\n",
       "      <th>Boston Celtics</th>\n",
       "      <td>25.60</td>\n",
       "    </tr>\n",
       "    <tr>\n",
       "      <th>Memphis Grizzlies</th>\n",
       "      <td>25.65</td>\n",
       "    </tr>\n",
       "    <tr>\n",
       "      <th>Oklahoma City Thunder</th>\n",
       "      <td>25.75</td>\n",
       "    </tr>\n",
       "    <tr>\n",
       "      <th>New Orleans Pelicans</th>\n",
       "      <td>25.78</td>\n",
       "    </tr>\n",
       "    <tr>\n",
       "      <th>Cleveland Cavaliers</th>\n",
       "      <td>26.00</td>\n",
       "    </tr>\n",
       "    <tr>\n",
       "      <th>Charlotte Hornets</th>\n",
       "      <td>26.00</td>\n",
       "    </tr>\n",
       "    <tr>\n",
       "      <th>Detroit Pistons</th>\n",
       "      <td>26.27</td>\n",
       "    </tr>\n",
       "    <tr>\n",
       "      <th>Philadelphia 76ers</th>\n",
       "      <td>26.35</td>\n",
       "    </tr>\n",
       "    <tr>\n",
       "      <th>Atlanta Hawks</th>\n",
       "      <td>26.48</td>\n",
       "    </tr>\n",
       "    <tr>\n",
       "      <th>Los Angeles Lakers</th>\n",
       "      <td>26.62</td>\n",
       "    </tr>\n",
       "    <tr>\n",
       "      <th>Minnesota Timberwolves</th>\n",
       "      <td>26.62</td>\n",
       "    </tr>\n",
       "    <tr>\n",
       "      <th>Washington Wizards</th>\n",
       "      <td>26.76</td>\n",
       "    </tr>\n",
       "    <tr>\n",
       "      <th>Milwaukee Bucks</th>\n",
       "      <td>26.93</td>\n",
       "    </tr>\n",
       "    <tr>\n",
       "      <th>Los Angeles Clippers</th>\n",
       "      <td>27.11</td>\n",
       "    </tr>\n",
       "    <tr>\n",
       "      <th>Utah Jazz</th>\n",
       "      <td>27.13</td>\n",
       "    </tr>\n",
       "    <tr>\n",
       "      <th>Toronto Raptors</th>\n",
       "      <td>27.17</td>\n",
       "    </tr>\n",
       "    <tr>\n",
       "      <th>Golden State Warriors</th>\n",
       "      <td>27.87</td>\n",
       "    </tr>\n",
       "    <tr>\n",
       "      <th>Dallas Mavericks</th>\n",
       "      <td>27.87</td>\n",
       "    </tr>\n",
       "    <tr>\n",
       "      <th>Houston Rockets</th>\n",
       "      <td>27.92</td>\n",
       "    </tr>\n",
       "    <tr>\n",
       "      <th>San Antonio Spurs</th>\n",
       "      <td>28.13</td>\n",
       "    </tr>\n",
       "    <tr>\n",
       "      <th>Miami Heat</th>\n",
       "      <td>28.18</td>\n",
       "    </tr>\n",
       "  </tbody>\n",
       "</table>\n",
       "</div>"
      ],
      "text/plain": [
       "                          Age\n",
       "Team                         \n",
       "Chicago Bulls           24.31\n",
       "Sacramento Kings        24.40\n",
       "Orlando Magic           24.53\n",
       "New York Knicks         24.62\n",
       "Phoenix Suns            24.76\n",
       "Portland Trail Blazers  24.86\n",
       "Indiana Pacers          25.06\n",
       "Denver Nuggets          25.27\n",
       "Brooklyn Nets           25.56\n",
       "Boston Celtics          25.60\n",
       "Memphis Grizzlies       25.65\n",
       "Oklahoma City Thunder   25.75\n",
       "New Orleans Pelicans    25.78\n",
       "Cleveland Cavaliers     26.00\n",
       "Charlotte Hornets       26.00\n",
       "Detroit Pistons         26.27\n",
       "Philadelphia 76ers      26.35\n",
       "Atlanta Hawks           26.48\n",
       "Los Angeles Lakers      26.62\n",
       "Minnesota Timberwolves  26.62\n",
       "Washington Wizards      26.76\n",
       "Milwaukee Bucks         26.93\n",
       "Los Angeles Clippers    27.11\n",
       "Utah Jazz               27.13\n",
       "Toronto Raptors         27.17\n",
       "Golden State Warriors   27.87\n",
       "Dallas Mavericks        27.87\n",
       "Houston Rockets         27.92\n",
       "San Antonio Spurs       28.13\n",
       "Miami Heat              28.18"
      ]
     },
     "execution_count": 209,
     "metadata": {},
     "output_type": "execute_result"
    }
   ],
   "source": [
    "team_age = nba_stats[['Team', 'Age']]\n",
    "ave_age = team_age.groupby('Team').mean().round(decimals = 2)\n",
    "\n",
    "ave_age.sort_values('Age')\n",
    "\n",
    "#Answer: Chicago Bulls based on the average age of their roster"
   ]
  },
  {
   "cell_type": "markdown",
   "metadata": {},
   "source": [
    "# Who is the highest paid player during the season?"
   ]
  },
  {
   "cell_type": "code",
   "execution_count": 83,
   "metadata": {},
   "outputs": [
    {
     "data": {
      "text/plain": [
       "Name      Zhou Qi\n",
       "Salary      99290\n",
       "dtype: object"
      ]
     },
     "execution_count": 83,
     "metadata": {},
     "output_type": "execute_result"
    }
   ],
   "source": [
    "nba_stats[['Name', 'Salary']].max()\n",
    "#Answer: Zhou Qi"
   ]
  },
  {
   "cell_type": "markdown",
   "metadata": {},
   "source": [
    "# At the end of a game, who WOULDN'T you want on the Free Throw Line?"
   ]
  },
  {
   "cell_type": "code",
   "execution_count": 108,
   "metadata": {},
   "outputs": [
    {
     "data": {
      "text/plain": [
       "Name    Aaron Gordon\n",
       "FT%              0.0\n",
       "dtype: object"
      ]
     },
     "execution_count": 108,
     "metadata": {},
     "output_type": "execute_result"
    }
   ],
   "source": [
    "nba_stats[['Name','FT%']].min()\n",
    "#Answer: Aaron Gordon"
   ]
  }
 ],
 "metadata": {
  "kernelspec": {
   "display_name": "Python 3 (ipykernel)",
   "language": "python",
   "name": "python3"
  },
  "language_info": {
   "codemirror_mode": {
    "name": "ipython",
    "version": 3
   },
   "file_extension": ".py",
   "mimetype": "text/x-python",
   "name": "python",
   "nbconvert_exporter": "python",
   "pygments_lexer": "ipython3",
   "version": "3.11.5"
  }
 },
 "nbformat": 4,
 "nbformat_minor": 2
}
