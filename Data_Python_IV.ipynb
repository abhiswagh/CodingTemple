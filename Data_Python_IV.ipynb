{
  "cells": [
    {
      "cell_type": "markdown",
      "metadata": {
        "id": "view-in-github",
        "colab_type": "text"
      },
      "source": [
        "<a href=\"https://colab.research.google.com/github/abhiswagh/CodingTempleBootcampAssign/blob/main/Data_Python_IV.ipynb\" target=\"_parent\"><img src=\"https://colab.research.google.com/assets/colab-badge.svg\" alt=\"Open In Colab\"/></a>"
      ]
    },
    {
      "cell_type": "markdown",
      "metadata": {
        "id": "QPrpdfkc10s9"
      },
      "source": [
        "# Object-Oriented-Programming (OOP)"
      ]
    },
    {
      "cell_type": "markdown",
      "metadata": {
        "id": "9tKzlNU610s-"
      },
      "source": [
        "## Tasks Today:\n",
        "\n",
        "   \n",
        "\n",
        "1) <b>Creating a Class (Initializing/Declaring)</b> <br>\n",
        "2) <b>Using a Class (Instantiating)</b> <br>\n",
        " &nbsp;&nbsp;&nbsp;&nbsp; a) Creating One Instance <br>\n",
        " &nbsp;&nbsp;&nbsp;&nbsp; b) Creating Multiple Instances <br>\n",
        " &nbsp;&nbsp;&nbsp;&nbsp; c) In-Class Exercise #1 - Create a Class 'Car' and instantiate three different makes of cars <br>\n",
        "3) <b>The \\__init\\__() Method</b> <br>\n",
        " &nbsp;&nbsp;&nbsp;&nbsp; a) The 'self' Attribute <br>\n",
        "4) <b>Class Attributes</b> <br>\n",
        " &nbsp;&nbsp;&nbsp;&nbsp; a) Initializing Attributes <br>\n",
        " &nbsp;&nbsp;&nbsp;&nbsp; b) Setting an Attribute Outside of the \\__init\\__() Method <br>\n",
        " &nbsp;&nbsp;&nbsp;&nbsp; c) Setting Defaults for Attributes <br>\n",
        " &nbsp;&nbsp;&nbsp;&nbsp; d) Accessing Class Attributes <br>\n",
        " &nbsp;&nbsp;&nbsp;&nbsp; e) Changing Class Attributes <br>\n",
        " &nbsp;&nbsp;&nbsp;&nbsp; f) In-Class Exercise #2 - Add a color and wheels attribute to your 'Car' class <br>\n",
        "5) <b>Class Methods</b> <br>\n",
        " &nbsp;&nbsp;&nbsp;&nbsp; a) Creating <br>\n",
        " &nbsp;&nbsp;&nbsp;&nbsp; b) Calling <br>\n",
        " &nbsp;&nbsp;&nbsp;&nbsp; c) Modifying an Attribute's Value Through a Method <br>\n",
        " &nbsp;&nbsp;&nbsp;&nbsp; d) Incrementing an Attribute's Value Through a Method <br>\n",
        " &nbsp;&nbsp;&nbsp;&nbsp; e) In-Class Exercise #3 - Add a method that prints the cars color and wheel number, then call them <br>\n",
        "6) <b>Inheritance</b> <br>\n",
        " &nbsp;&nbsp;&nbsp;&nbsp; a) Syntax for Inheriting from a Parent Class <br>\n",
        " &nbsp;&nbsp;&nbsp;&nbsp; b) The \\__init\\__() Method for a Child Class (super()) <br>\n",
        " &nbsp;&nbsp;&nbsp;&nbsp; c) Defining Attributes and Methods for the Child Class <br>\n",
        " &nbsp;&nbsp;&nbsp;&nbsp; d) Method Overriding <br>\n",
        " &nbsp;&nbsp;&nbsp;&nbsp; e) In-Class Exercise #4 - Create a class 'Ford' that inherits from 'Car' class and initialize it as a Blue Ford Explorer with 4 wheels using the super() method <br>\n",
        "7) <b>Classes as Attributes</b> <br>\n",
        "8) <b>Exercises</b> <br>\n",
        " &nbsp;&nbsp;&nbsp;&nbsp; a) Exercise #1 - Turn the shopping cart program from yesterday into an object-oriented program <br>"
      ]
    },
    {
      "cell_type": "markdown",
      "metadata": {
        "id": "1QV-r04V10s-"
      },
      "source": [
        "## Creating a Class (Initializing/Declaring)\n",
        "<p>When creating a class, function, or even a variable you are initializing that object. Initializing and Declaring occur at the same time in Python, whereas in lower level languages you have to declare an object before initializing it. This is the first step in the process of using a class.</p>"
      ]
    },
    {
      "cell_type": "code",
      "execution_count": 2,
      "metadata": {
        "id": "U_KibF7710s_"
      },
      "outputs": [],
      "source": [
        "class Car():   #class has to be capitalized to differentiate it from a function\n",
        "    wheels = 4\n",
        "    color = 'blue'"
      ]
    },
    {
      "cell_type": "markdown",
      "metadata": {
        "id": "x5_nhxLh10s_"
      },
      "source": [
        "## Using a Class (Instantiating)\n",
        "<p>The process of creating a class is called <i>Instantiating</i>. Each time you create a variable of that type of class, it is referred to as an <i>Instance</i> of that class. This is the second step in the process of using a class.</p>"
      ]
    },
    {
      "cell_type": "markdown",
      "metadata": {
        "id": "JBkxyYJr10s_"
      },
      "source": [
        "##### Creating One Instance"
      ]
    },
    {
      "cell_type": "code",
      "execution_count": 3,
      "metadata": {
        "colab": {
          "base_uri": "https://localhost:8080/"
        },
        "id": "McmlTQli10s_",
        "outputId": "08fffaf2-92a2-411a-d562-6e553e0e6da6"
      },
      "outputs": [
        {
          "output_type": "stream",
          "name": "stdout",
          "text": [
            "4\n"
          ]
        }
      ],
      "source": [
        "ford = Car()\n",
        "print(ford.wheels)"
      ]
    },
    {
      "cell_type": "markdown",
      "metadata": {
        "id": "sr0MCNHr10s_"
      },
      "source": [
        "##### Creating Multiple Instances"
      ]
    },
    {
      "cell_type": "code",
      "execution_count": 6,
      "metadata": {
        "colab": {
          "base_uri": "https://localhost:8080/"
        },
        "id": "SsMBLqiU10s_",
        "outputId": "987359a5-e87f-4538-c022-0ffb465563d7"
      },
      "outputs": [
        {
          "output_type": "stream",
          "name": "stdout",
          "text": [
            "<class 'str'>\n",
            "blue\n"
          ]
        }
      ],
      "source": [
        "chevy = Car()\n",
        "honda = Car()\n",
        "porsche = Car()\n",
        "\n",
        "print(type(chevy.color))\n",
        "print(porsche.color)"
      ]
    },
    {
      "cell_type": "markdown",
      "metadata": {
        "id": "pgG6PJRK10s_"
      },
      "source": [
        "##### In-Class Exercise #1 - Create a Class 'Car' and Instantiate three different makes of cars"
      ]
    },
    {
      "cell_type": "code",
      "execution_count": 8,
      "metadata": {
        "colab": {
          "base_uri": "https://localhost:8080/"
        },
        "id": "Xa7rKLCt10tA",
        "outputId": "2fe5bc6c-cbc2-496b-e993-31aa413a8a53"
      },
      "outputs": [
        {
          "output_type": "stream",
          "name": "stdout",
          "text": [
            "nissan\n"
          ]
        }
      ],
      "source": [
        "class Car():\n",
        "  make_1= 'subaru'\n",
        "  make_2= 'nissan'\n",
        "  make_3= 'scion'\n",
        "\n",
        "car_type= Car()\n",
        "\n",
        "print(car_type.make_2)"
      ]
    },
    {
      "cell_type": "markdown",
      "metadata": {
        "id": "sD772VMu10tA"
      },
      "source": [
        "## The \\__init\\__() Method <br>\n",
        "<p>This method is used in almost every created class, and called only once upon the creation of the class instance. This method will initialize all variables needed for the object.</p>"
      ]
    },
    {
      "cell_type": "code",
      "execution_count": 19,
      "metadata": {
        "colab": {
          "base_uri": "https://localhost:8080/"
        },
        "id": "1F_nBcW210tA",
        "outputId": "4b080cf8-9987-45f0-93ec-c5a2a35f9890"
      },
      "outputs": [
        {
          "output_type": "stream",
          "name": "stdout",
          "text": [
            "4\n",
            "4.7L\n"
          ]
        }
      ],
      "source": [
        "#also known as 'dunder method' b/c double underscore (before and after 'init')\n",
        "\n",
        "class Car():\n",
        "  engine = '4.7L' #constant attribute\n",
        "\n",
        "  def __init__(self, wheels, color):\n",
        "    self.wheels = wheels\n",
        "    self.color = color\n",
        "\n",
        "ford= Car(4, 'red')\n",
        "chevy= Car(6, 'gray')\n",
        "\n",
        "print(ford.wheels)\n",
        "print(chevy.engine)"
      ]
    },
    {
      "cell_type": "markdown",
      "metadata": {
        "id": "CmTQzuis10tA"
      },
      "source": [
        "##### The 'self' Attribute <br>\n",
        "<p>This attribute is required to keep track of specific instance's attributes. Without the self attribute, the program would not know how to reference or keep track of an instance's attributes.</p>"
      ]
    },
    {
      "cell_type": "code",
      "execution_count": null,
      "metadata": {
        "id": "tx1NH11D10tA"
      },
      "outputs": [],
      "source": [
        "# see above"
      ]
    },
    {
      "cell_type": "markdown",
      "metadata": {
        "id": "egtJrbJN10tA"
      },
      "source": [
        "## Class Attributes <br>\n",
        "<p>While variables are inside of a class, they are referred to as attributes and not variables. When someone says 'attribute' you know they're speaking about a class. Attributes can be initialized through the init method, or outside of it.</p>"
      ]
    },
    {
      "cell_type": "markdown",
      "metadata": {
        "id": "-S5dl-SR10tA"
      },
      "source": [
        "##### Initializing Attributes"
      ]
    },
    {
      "cell_type": "code",
      "execution_count": 20,
      "metadata": {
        "id": "dTU_lNpC10tA"
      },
      "outputs": [],
      "source": [
        "# see above\n",
        "#method = function that lives inside class\n",
        "\n",
        "class Toy():\n",
        "  kind = 'car'\n",
        "\n",
        "  def __init__(self, rooftop, horn, wheels =4):\n",
        "    self.rooftop= rooftop\n",
        "    self.horn= horn\n",
        "    self.wheels= wheels\n",
        "\n",
        "tonka_truck= Toy(1,1)\n",
        "hot_wheels= Toy(2,3,8)"
      ]
    },
    {
      "cell_type": "markdown",
      "metadata": {
        "id": "byHm-FZM10tA"
      },
      "source": [
        "##### Accessing Class Attributes"
      ]
    },
    {
      "cell_type": "code",
      "execution_count": 21,
      "metadata": {
        "scrolled": true,
        "colab": {
          "base_uri": "https://localhost:8080/"
        },
        "id": "fgtNzN4L10tA",
        "outputId": "1a306935-12b7-4b16-be2a-5ce73d5b305c"
      },
      "outputs": [
        {
          "output_type": "stream",
          "name": "stdout",
          "text": [
            "1\n",
            "8\n"
          ]
        }
      ],
      "source": [
        "# See Above\n",
        "\n",
        "print(tonka_truck.horn)\n",
        "print(hot_wheels.wheels)"
      ]
    },
    {
      "cell_type": "markdown",
      "metadata": {
        "id": "Iv6y1Ppo10tA"
      },
      "source": [
        "##### Setting Defaults for Attributes"
      ]
    },
    {
      "cell_type": "code",
      "execution_count": 33,
      "metadata": {
        "colab": {
          "base_uri": "https://localhost:8080/"
        },
        "id": "miom_NPt10tA",
        "outputId": "efe3bd84-a2b9-4425-9ab5-1796618ba4b4"
      },
      "outputs": [
        {
          "output_type": "stream",
          "name": "stdout",
          "text": [
            "4\n",
            "Blue\n",
            "5.4L\n"
          ]
        }
      ],
      "source": [
        "class Car():\n",
        "  engine = '4.7L' #constant attribute\n",
        "\n",
        "  def __init__(self, wheels):\n",
        "    self.wheels = wheels\n",
        "    self.color = 'Blue' #cannot overwrite!\n",
        "\n",
        "honda = Car(4)\n",
        "print(honda.wheels)\n",
        "print(honda.color)\n",
        "\n",
        "honda.engine = '5.4L'\n",
        "print(honda.engine)"
      ]
    },
    {
      "cell_type": "markdown",
      "metadata": {
        "id": "2vTHBMFX10tA"
      },
      "source": [
        "##### Changing Class Attributes <br>\n",
        "<p>Keep in mind there are global class attributes and then there are attributes only available to each class instance which won't effect other classes.</p>"
      ]
    },
    {
      "cell_type": "code",
      "execution_count": null,
      "metadata": {
        "id": "3Y-N7cRa10tA"
      },
      "outputs": [],
      "source": []
    },
    {
      "cell_type": "code",
      "execution_count": null,
      "metadata": {
        "id": "hOASXRVl10tB"
      },
      "outputs": [],
      "source": []
    },
    {
      "cell_type": "markdown",
      "metadata": {
        "id": "qyR0m9nV10tB"
      },
      "source": [
        "##### In-Class Exercise #2 - Add a doors and seats attribute to your 'Car' class then print out two different instances with different doors and seats"
      ]
    },
    {
      "cell_type": "code",
      "execution_count": 9,
      "metadata": {
        "colab": {
          "base_uri": "https://localhost:8080/"
        },
        "id": "nNDJhV5h10tB",
        "outputId": "9356b76b-f696-40cb-c8fd-43d482881b9c"
      },
      "outputs": [
        {
          "output_type": "stream",
          "name": "stdout",
          "text": [
            "4 5\n",
            "2 3\n"
          ]
        }
      ],
      "source": [
        "class Car():\n",
        "  engine = '4.7L'\n",
        "\n",
        "  def __init__(self, wheels, color, doors, seats):\n",
        "    self.wheels = wheels\n",
        "    self.color = color\n",
        "    self.doors = doors\n",
        "    self.seats = seats\n",
        "\n",
        "subaru = Car(4,'red', 4, 5)\n",
        "print(subaru.doors, subaru.seats)\n",
        "\n",
        "scion = Car(4, 'black', 2, 3)\n",
        "print(scion.doors, scion.seats)"
      ]
    },
    {
      "cell_type": "markdown",
      "metadata": {
        "id": "63Q1UMHm10tB"
      },
      "source": [
        "## Class Methods <br>\n",
        "<p>While inside of a class, functions are referred to as 'methods'. If you hear someone mention methods, they're speaking about classes. Methods are essentially functions, but only callable on the instances of a class.</p>"
      ]
    },
    {
      "cell_type": "markdown",
      "metadata": {
        "id": "5PSLUdQ010tB"
      },
      "source": [
        "##### Creating"
      ]
    },
    {
      "cell_type": "code",
      "execution_count": 30,
      "metadata": {
        "id": "M392nMU-10tB"
      },
      "outputs": [],
      "source": [
        "class Shoppingbag():\n",
        "  '''\n",
        "    The Shoppingbag class will have handles, capacity, and items\n",
        "    to place inside.\n",
        "\n",
        "    Attributes for the class:\n",
        "    - handles: expected to be int\n",
        "    - items: expected to be list\n",
        "    - capacity: expected to be int\n",
        "  '''\n",
        "\n",
        "  def __init__(self, handles, items = [], capacity = 10):\n",
        "    self.handles = handles\n",
        "    self.items = items\n",
        "    self.capacity = capacity\n",
        "\n",
        "  def ShowShoppingbag(self):\n",
        "    if len(self.items) == 0:\n",
        "      print(\"You have no items!\")\n",
        "    else:\n",
        "      print(\"You have items in your bag!!! \")\n",
        "      for item in self.items:\n",
        "        print(item)\n",
        "\n",
        "  def Showcapacity(self):\n",
        "    print(f'Your remaining capacity is {self.capacity-len(self.items)}')\n",
        "\n",
        "  def AddToShoppingbag(self):  #if capacity is full, reject new items\n",
        "    if len(self.items) == self.capacity:\n",
        "      print(\"You have no room.\")\n",
        "    else:\n",
        "      product = input(\"What would you like to add? \")\n",
        "      self.items.append(product)\n",
        "\n",
        "  def Showhandles(self):\n",
        "    print(f'You have {self.handles} handles on your bag.')"
      ]
    },
    {
      "cell_type": "markdown",
      "metadata": {
        "id": "RsnQ_OF810tB"
      },
      "source": [
        "##### Calling"
      ]
    },
    {
      "cell_type": "code",
      "execution_count": 34,
      "metadata": {
        "colab": {
          "base_uri": "https://localhost:8080/"
        },
        "id": "-3Em-I3y10tB",
        "outputId": "1e35c3d8-dcc9-4cbc-938b-aafadf3bf3b7"
      },
      "outputs": [
        {
          "output_type": "stream",
          "name": "stdout",
          "text": [
            "What would you like to do? \n",
            "\n",
            " You may: \n",
            "-Add\n",
            "-Show\n",
            "-Quit\n",
            " add\n",
            "What would you like to add? grapes\n",
            "What would you like to do? \n",
            "\n",
            " You may: \n",
            "-Add\n",
            "-Show\n",
            "-Quit\n",
            " cheese\n",
            "That is not a valid option. Please type: 'add', 'show', or 'quit.'\n",
            "What would you like to do? \n",
            "\n",
            " You may: \n",
            "-Add\n",
            "-Show\n",
            "-Quit\n",
            " add\n",
            "What would you like to add? cheese\n",
            "What would you like to do? \n",
            "\n",
            " You may: \n",
            "-Add\n",
            "-Show\n",
            "-Quit\n",
            " add\n",
            "What would you like to add? brea\n",
            "What would you like to do? \n",
            "\n",
            " You may: \n",
            "-Add\n",
            "-Show\n",
            "-Quit\n",
            " show\n",
            "What would you like to see: \n",
            "-Capacity\n",
            "-Handles\n",
            "-Shopping bagyee haw\n",
            "You have items in your bag!!! \n",
            "grapes\n",
            "cheese\n",
            "brea\n",
            "What would you like to do? \n",
            "\n",
            " You may: \n",
            "-Add\n",
            "-Show\n",
            "-Quit\n",
            " quit\n",
            "You have items in your bag!!! \n",
            "grapes\n",
            "cheese\n",
            "brea\n",
            "Thanks for shopping!\n"
          ]
        }
      ],
      "source": [
        "# See Above\n",
        "#instantiating\n",
        "\n",
        "wholeFoodsBag= Shoppingbag(2,[])\n",
        "\n",
        "def Run():\n",
        "  while True:\n",
        "    response = input(\"What would you like to do? \\n\\n You may: \\n-Add\\n-Show\\n-Quit\\n \")\n",
        "\n",
        "    if response.lower() == 'quit':\n",
        "      wholeFoodsBag.ShowShoppingbag()\n",
        "      print(\"Thanks for shopping!\")\n",
        "      break\n",
        "    elif response.lower() == 'add':\n",
        "      wholeFoodsBag.AddToShoppingbag()\n",
        "    elif response.lower() == 'show':\n",
        "      ShowChoice = input(\"What would you like to see: \\n-Capacity\\n-Handles\\n-Shopping bag\\n\")\n",
        "      if ShowChoice.lower() == 'capacity':\n",
        "        wholeFoodsBag.Showcapacity()\n",
        "      elif ShowChoice.lower() == 'handles':\n",
        "        wholeFoodsBag.Showhandles\n",
        "      else:\n",
        "        wholeFoodsBag.ShowShoppingbag()\n",
        "    else:\n",
        "      print(\"That is not a valid option. Please type: 'add', 'show', or 'quit.'\")\n",
        "\n",
        "Run()\n"
      ]
    },
    {
      "cell_type": "markdown",
      "metadata": {
        "id": "z308-96910tB"
      },
      "source": [
        "##### Modifying an Attribute's Value Through a Method"
      ]
    },
    {
      "cell_type": "code",
      "execution_count": null,
      "metadata": {
        "id": "xoCidXeI10tB"
      },
      "outputs": [],
      "source": []
    },
    {
      "cell_type": "markdown",
      "metadata": {
        "id": "ElVJ7Z3v10tB"
      },
      "source": [
        "##### Incrementing an Attribute's Value Through a Method"
      ]
    },
    {
      "cell_type": "code",
      "execution_count": null,
      "metadata": {
        "id": "K4L3YEEO10tB"
      },
      "outputs": [],
      "source": []
    },
    {
      "cell_type": "markdown",
      "metadata": {
        "id": "4xV7UD3q10tB"
      },
      "source": [
        "##### In-Class Exercise #3 - Add a method that takes in three parameters of year, doors and seats and prints out a formatted print statement with make, model, year, seats, and doors"
      ]
    },
    {
      "cell_type": "code",
      "execution_count": 5,
      "metadata": {
        "colab": {
          "base_uri": "https://localhost:8080/"
        },
        "id": "OHTLY4ap10tB",
        "outputId": "e33a55ce-28cd-41c1-c0b9-0b71c8d45f7e"
      },
      "outputs": [
        {
          "output_type": "stream",
          "name": "stdout",
          "text": [
            "This car is from 2019 and is a Ford Explorer and has 4 doors and 5 seats.\n"
          ]
        }
      ],
      "source": [
        "# Create class with 2 paramters inside of the __init__ which are make and model\n",
        "\n",
        "# Inside of the Car class create a method that has 4 parameter in total (self,year,door,seats)\n",
        "\n",
        "# Output: This car is from 2019 and is a Ford Expolorer and has 4 doors and 5 seats\n",
        "\n",
        "class Car():\n",
        "  def __init__(self, make, model):\n",
        "    self.make = make\n",
        "    self.model = model\n",
        "\n",
        "  def car_aspects(self, year, door, seats):\n",
        "    self.year = year\n",
        "    self.door = door\n",
        "    self.seats = seats\n",
        "    make_1 = self.make\n",
        "    model_1 = self.model\n",
        "\n",
        "    print(f'This car is from {year} and is a {make_1} {model_1} and has {door} doors and {seats} seats.')\n",
        "\n",
        "Ford_explorer = Car('Ford', 'Explorer')\n",
        "Ford_explorer.car_aspects(2019, 4, 5)"
      ]
    },
    {
      "cell_type": "markdown",
      "metadata": {
        "id": "tyKHiAZ-10tB"
      },
      "source": [
        "## Inheritance <br>\n",
        "<p>You can create a child-parent relationship between two classes by using inheritance. What this allows you to do is have overriding methods, but also inherit traits from the parent class. Think of it as an actual parent and child, the child will inherit the parent's genes, as will the classes in OOP</p>"
      ]
    },
    {
      "cell_type": "markdown",
      "metadata": {
        "id": "x3mObeCl10tL"
      },
      "source": [
        "##### Syntax for Inheriting from a Parent Class"
      ]
    },
    {
      "cell_type": "code",
      "execution_count": null,
      "metadata": {
        "id": "qBX9IABm10tL"
      },
      "outputs": [],
      "source": []
    },
    {
      "cell_type": "markdown",
      "metadata": {
        "id": "_t06eky510tL"
      },
      "source": [
        "##### The \\__init\\__() Method for a Child Class - super()"
      ]
    },
    {
      "cell_type": "code",
      "execution_count": null,
      "metadata": {
        "scrolled": true,
        "id": "VflM65lZ10tL"
      },
      "outputs": [],
      "source": []
    },
    {
      "cell_type": "markdown",
      "metadata": {
        "id": "HO3jdCPt10tL"
      },
      "source": [
        "##### Defining Attributes and Methods for the Child Class"
      ]
    },
    {
      "cell_type": "code",
      "execution_count": null,
      "metadata": {
        "id": "W7VsjwrB10tL"
      },
      "outputs": [],
      "source": [
        "# See Above"
      ]
    },
    {
      "cell_type": "markdown",
      "metadata": {
        "id": "b9l0KQOF10tL"
      },
      "source": [
        "##### Method Overriding"
      ]
    },
    {
      "cell_type": "code",
      "execution_count": null,
      "metadata": {
        "id": "JxaQDumJ10tL"
      },
      "outputs": [],
      "source": [
        "# See Above"
      ]
    },
    {
      "cell_type": "markdown",
      "metadata": {
        "id": "A-uK9UVw10tL"
      },
      "source": [
        "## Classes as Attributes <br>\n",
        "<p>Classes can also be used as attributes within another class. This is useful in situations where you need to keep variables locally stored, instead of globally stored.</p>"
      ]
    },
    {
      "cell_type": "code",
      "execution_count": null,
      "metadata": {
        "id": "BCue-uet10tL"
      },
      "outputs": [],
      "source": []
    },
    {
      "cell_type": "markdown",
      "metadata": {
        "id": "IXAXrU8Q10tL"
      },
      "source": [
        "# Exercises"
      ]
    },
    {
      "cell_type": "markdown",
      "metadata": {
        "id": "0X2D8XCU10tL"
      },
      "source": [
        "### Exercise 1 - Turn the shopping cart program from yesterday into an object-oriented program\n",
        "\n",
        "The comments in the cell below are there as a guide for thinking about the problem. However, if you feel a different way is best for you and your own thought process, please do what feels best for you by all means."
      ]
    },
    {
      "cell_type": "code",
      "execution_count": 7,
      "metadata": {
        "colab": {
          "base_uri": "https://localhost:8080/"
        },
        "id": "F-w2RZf010tL",
        "outputId": "c8cebd92-6eb8-410c-e268-d783b92e2f22"
      },
      "outputs": [
        {
          "name": "stdout",
          "output_type": "stream",
          "text": [
            "What would you like to do? \n",
            " add \n",
            " remove \n",
            " show \n",
            " quit \n",
            "add\n",
            "What would you like to add to your cart?apples\n",
            "What would you like to do? \n",
            " add \n",
            " remove \n",
            " show \n",
            " quit \n",
            "cheese\n",
            "Not a valid option. Try again!\n",
            "What would you like to do? \n",
            " add \n",
            " remove \n",
            " show \n",
            " quit \n",
            "add\n",
            "What would you like to add to your cart?cheese\n",
            "What would you like to do? \n",
            " add \n",
            " remove \n",
            " show \n",
            " quit \n",
            "add\n",
            "What would you like to add to your cart?bread\n",
            "What would you like to do? \n",
            " add \n",
            " remove \n",
            " show \n",
            " quit \n",
            "show\n",
            "['apples', 'cheese', 'bread']\n",
            "What would you like to do? \n",
            " add \n",
            " remove \n",
            " show \n",
            " quit \n",
            "remove\n",
            "What would you like to remove?bread\n",
            "What would you like to do? \n",
            " add \n",
            " remove \n",
            " show \n",
            " quit \n",
            "show\n",
            "['apples', 'cheese']\n",
            "What would you like to do? \n",
            " add \n",
            " remove \n",
            " show \n",
            " quit \n",
            "remove\n",
            "What would you like to remove?bananas\n",
            "This item is not in the cart. Look again!\n",
            "What would you like to do? \n",
            " add \n",
            " remove \n",
            " show \n",
            " quit \n",
            "remove\n",
            "What would you like to remove?apples\n",
            "What would you like to do? \n",
            " add \n",
            " remove \n",
            " show \n",
            " quit \n",
            "show\n",
            "['cheese']\n",
            "What would you like to do? \n",
            " add \n",
            " remove \n",
            " show \n",
            " quit \n",
            "quit\n"
          ]
        }
      ],
      "source": [
        "# Create a class called cart that retains items and has methods to add, remove, and show\n",
        "\n",
        "class Groceries():\n",
        "    def __init__(self,space,things = []):\n",
        "      self.space = space\n",
        "      self.things = things\n",
        "\n",
        "    def add_cart(self):\n",
        "      if len(self.things) == self.space:\n",
        "        print(\"You have no room.\")\n",
        "      else:\n",
        "        customer_input = input(\"What would you like to add to your cart?\")\n",
        "        self.things.append(customer_input)\n",
        "\n",
        "    def remove_cart(self):\n",
        "      customer_input2 = input(\"What would you like to remove?\")\n",
        "      if customer_input2 in self.things:\n",
        "        self.things.remove(customer_input2)\n",
        "      else:\n",
        "        print('This item is not in the cart. Look again!')\n",
        "\n",
        "    def show_cart(self):\n",
        "      print(self.things)\n",
        "\n",
        "Cart = Groceries(4, []) #instantiating\n",
        "\n",
        "def choices():\n",
        "      while True:\n",
        "        choice = input(\"What would you like to do? \\n add \\n remove \\n show \\n quit \\n\")\n",
        "        if choice.lower() == 'add':\n",
        "          Cart.add_cart()\n",
        "        elif choice.lower() == 'remove':\n",
        "          Cart.remove_cart()\n",
        "        elif choice.lower() == 'show':\n",
        "          Cart.show_cart()\n",
        "        elif choice.lower() == 'quit':\n",
        "          break\n",
        "        else:\n",
        "          print('Not a valid option. Try again!')\n",
        "\n",
        "choices()\n",
        "\n",
        ""
      ]
    },
    {
      "cell_type": "markdown",
      "metadata": {
        "id": "kn2m8ld010tM"
      },
      "source": [
        "### Exercise 2 - Write a Python class which has two methods get_String and print_String. get_String accept a string from the user and print_String print the string in upper case"
      ]
    },
    {
      "cell_type": "code",
      "execution_count": 11,
      "metadata": {
        "colab": {
          "base_uri": "https://localhost:8080/"
        },
        "id": "pCeF9Ggu10tM",
        "outputId": "91b6f77a-c60b-4ea1-d5db-3d824fac0399"
      },
      "outputs": [
        {
          "output_type": "stream",
          "name": "stdout",
          "text": [
            "Write a random sentence/few words.this is a string I guess\n",
            "THIS IS A STRING I GUESS\n"
          ]
        }
      ],
      "source": [
        "class Display():\n",
        "  def __init__(self, string):\n",
        "    self.string = string\n",
        "  def get_String(self):\n",
        "    self.string = str(input(\"Write a random sentence/few words.\"))\n",
        "  def print_String(self):\n",
        "    print(self.string.upper())\n",
        "\n",
        "example_string = Display(input)\n",
        "\n",
        "example_string.get_String()\n",
        "example_string.print_String()\n",
        "\n",
        "\n",
        "\n",
        "\n",
        "\n",
        "\n",
        "\n",
        "\n"
      ]
    }
  ],
  "metadata": {
    "kernelspec": {
      "display_name": "Python 3 (ipykernel)",
      "language": "python",
      "name": "python3"
    },
    "language_info": {
      "codemirror_mode": {
        "name": "ipython",
        "version": 3
      },
      "file_extension": ".py",
      "mimetype": "text/x-python",
      "name": "python",
      "nbconvert_exporter": "python",
      "pygments_lexer": "ipython3",
      "version": "3.11.5"
    },
    "colab": {
      "provenance": [],
      "include_colab_link": true
    }
  },
  "nbformat": 4,
  "nbformat_minor": 0
}